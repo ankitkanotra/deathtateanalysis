{
 "cells": [
  {
   "cell_type": "code",
   "execution_count": 1,
   "id": "dadcf25e",
   "metadata": {},
   "outputs": [],
   "source": [
    "import pandas as pd\n",
    "import numpy as np\n",
    "import matplotlib.pyplot as plt\n",
    "import seaborn as sns"
   ]
  },
  {
   "cell_type": "code",
   "execution_count": 2,
   "id": "346dd6b4",
   "metadata": {},
   "outputs": [
    {
     "data": {
      "text/html": [
       "<div>\n",
       "<style scoped>\n",
       "    .dataframe tbody tr th:only-of-type {\n",
       "        vertical-align: middle;\n",
       "    }\n",
       "\n",
       "    .dataframe tbody tr th {\n",
       "        vertical-align: top;\n",
       "    }\n",
       "\n",
       "    .dataframe thead th {\n",
       "        text-align: right;\n",
       "    }\n",
       "</style>\n",
       "<table border=\"1\" class=\"dataframe\">\n",
       "  <thead>\n",
       "    <tr style=\"text-align: right;\">\n",
       "      <th></th>\n",
       "      <th>Id</th>\n",
       "      <th>Name</th>\n",
       "      <th>Short description</th>\n",
       "      <th>Gender</th>\n",
       "      <th>Country</th>\n",
       "      <th>Occupation</th>\n",
       "      <th>Birth year</th>\n",
       "      <th>Death year</th>\n",
       "      <th>Manner of death</th>\n",
       "      <th>Age of death</th>\n",
       "    </tr>\n",
       "  </thead>\n",
       "  <tbody>\n",
       "    <tr>\n",
       "      <th>0</th>\n",
       "      <td>Q23</td>\n",
       "      <td>George Washington</td>\n",
       "      <td>1st president of the United States (1732–1799)</td>\n",
       "      <td>Male</td>\n",
       "      <td>United States of America; Kingdom of Great Bri...</td>\n",
       "      <td>Politician</td>\n",
       "      <td>1732</td>\n",
       "      <td>1799.0</td>\n",
       "      <td>natural causes</td>\n",
       "      <td>67.0</td>\n",
       "    </tr>\n",
       "    <tr>\n",
       "      <th>1</th>\n",
       "      <td>Q42</td>\n",
       "      <td>Douglas Adams</td>\n",
       "      <td>English writer and humorist</td>\n",
       "      <td>Male</td>\n",
       "      <td>United Kingdom</td>\n",
       "      <td>Artist</td>\n",
       "      <td>1952</td>\n",
       "      <td>2001.0</td>\n",
       "      <td>natural causes</td>\n",
       "      <td>49.0</td>\n",
       "    </tr>\n",
       "    <tr>\n",
       "      <th>2</th>\n",
       "      <td>Q91</td>\n",
       "      <td>Abraham Lincoln</td>\n",
       "      <td>16th president of the United States (1809-1865)</td>\n",
       "      <td>Male</td>\n",
       "      <td>United States of America</td>\n",
       "      <td>Politician</td>\n",
       "      <td>1809</td>\n",
       "      <td>1865.0</td>\n",
       "      <td>homicide</td>\n",
       "      <td>56.0</td>\n",
       "    </tr>\n",
       "    <tr>\n",
       "      <th>3</th>\n",
       "      <td>Q254</td>\n",
       "      <td>Wolfgang Amadeus Mozart</td>\n",
       "      <td>Austrian composer of the Classical period</td>\n",
       "      <td>Male</td>\n",
       "      <td>Archduchy of Austria; Archbishopric of Salzburg</td>\n",
       "      <td>Artist</td>\n",
       "      <td>1756</td>\n",
       "      <td>1791.0</td>\n",
       "      <td>NaN</td>\n",
       "      <td>35.0</td>\n",
       "    </tr>\n",
       "    <tr>\n",
       "      <th>4</th>\n",
       "      <td>Q255</td>\n",
       "      <td>Ludwig van Beethoven</td>\n",
       "      <td>German classical and romantic composer</td>\n",
       "      <td>Male</td>\n",
       "      <td>Holy Roman Empire; Austrian Empire</td>\n",
       "      <td>Artist</td>\n",
       "      <td>1770</td>\n",
       "      <td>1827.0</td>\n",
       "      <td>NaN</td>\n",
       "      <td>57.0</td>\n",
       "    </tr>\n",
       "    <tr>\n",
       "      <th>...</th>\n",
       "      <td>...</td>\n",
       "      <td>...</td>\n",
       "      <td>...</td>\n",
       "      <td>...</td>\n",
       "      <td>...</td>\n",
       "      <td>...</td>\n",
       "      <td>...</td>\n",
       "      <td>...</td>\n",
       "      <td>...</td>\n",
       "      <td>...</td>\n",
       "    </tr>\n",
       "    <tr>\n",
       "      <th>1223004</th>\n",
       "      <td>Q77247326</td>\n",
       "      <td>Marie-Fortunée Besson</td>\n",
       "      <td>Frans model (1907-1996)</td>\n",
       "      <td>NaN</td>\n",
       "      <td>France</td>\n",
       "      <td>Tailor; model</td>\n",
       "      <td>1907</td>\n",
       "      <td>1996.0</td>\n",
       "      <td>NaN</td>\n",
       "      <td>89.0</td>\n",
       "    </tr>\n",
       "    <tr>\n",
       "      <th>1223005</th>\n",
       "      <td>Q77249504</td>\n",
       "      <td>Ron Thorsen</td>\n",
       "      <td>xugador de baloncestu canadianu (1948–2004)</td>\n",
       "      <td>NaN</td>\n",
       "      <td>Canada; United States of America</td>\n",
       "      <td>Athlete</td>\n",
       "      <td>1948</td>\n",
       "      <td>2004.0</td>\n",
       "      <td>NaN</td>\n",
       "      <td>56.0</td>\n",
       "    </tr>\n",
       "    <tr>\n",
       "      <th>1223006</th>\n",
       "      <td>Q77249818</td>\n",
       "      <td>Diether Todenhagen</td>\n",
       "      <td>German navy officer and world war II U-boat co...</td>\n",
       "      <td>NaN</td>\n",
       "      <td>Germany</td>\n",
       "      <td>Military personnel</td>\n",
       "      <td>1920</td>\n",
       "      <td>1944.0</td>\n",
       "      <td>NaN</td>\n",
       "      <td>24.0</td>\n",
       "    </tr>\n",
       "    <tr>\n",
       "      <th>1223007</th>\n",
       "      <td>Q77253909</td>\n",
       "      <td>Reginald Oswald Pearson</td>\n",
       "      <td>English artist, working in stained glass, prin...</td>\n",
       "      <td>Male</td>\n",
       "      <td>United Kingdom</td>\n",
       "      <td>Artist</td>\n",
       "      <td>1887</td>\n",
       "      <td>1915.0</td>\n",
       "      <td>NaN</td>\n",
       "      <td>28.0</td>\n",
       "    </tr>\n",
       "    <tr>\n",
       "      <th>1223008</th>\n",
       "      <td>Q77254864</td>\n",
       "      <td>Horst Lerche</td>\n",
       "      <td>German painter</td>\n",
       "      <td>Male</td>\n",
       "      <td>Germany</td>\n",
       "      <td>Artist</td>\n",
       "      <td>1938</td>\n",
       "      <td>2017.0</td>\n",
       "      <td>NaN</td>\n",
       "      <td>79.0</td>\n",
       "    </tr>\n",
       "  </tbody>\n",
       "</table>\n",
       "<p>1223009 rows × 10 columns</p>\n",
       "</div>"
      ],
      "text/plain": [
       "                Id                     Name  \\\n",
       "0              Q23        George Washington   \n",
       "1              Q42            Douglas Adams   \n",
       "2              Q91          Abraham Lincoln   \n",
       "3             Q254  Wolfgang Amadeus Mozart   \n",
       "4             Q255     Ludwig van Beethoven   \n",
       "...            ...                      ...   \n",
       "1223004  Q77247326    Marie-Fortunée Besson   \n",
       "1223005  Q77249504              Ron Thorsen   \n",
       "1223006  Q77249818       Diether Todenhagen   \n",
       "1223007  Q77253909  Reginald Oswald Pearson   \n",
       "1223008  Q77254864             Horst Lerche   \n",
       "\n",
       "                                         Short description Gender  \\\n",
       "0           1st president of the United States (1732–1799)   Male   \n",
       "1                              English writer and humorist   Male   \n",
       "2          16th president of the United States (1809-1865)   Male   \n",
       "3                Austrian composer of the Classical period   Male   \n",
       "4                   German classical and romantic composer   Male   \n",
       "...                                                    ...    ...   \n",
       "1223004                            Frans model (1907-1996)    NaN   \n",
       "1223005        xugador de baloncestu canadianu (1948–2004)    NaN   \n",
       "1223006  German navy officer and world war II U-boat co...    NaN   \n",
       "1223007  English artist, working in stained glass, prin...   Male   \n",
       "1223008                                     German painter   Male   \n",
       "\n",
       "                                                   Country  \\\n",
       "0        United States of America; Kingdom of Great Bri...   \n",
       "1                                           United Kingdom   \n",
       "2                                 United States of America   \n",
       "3          Archduchy of Austria; Archbishopric of Salzburg   \n",
       "4                       Holy Roman Empire; Austrian Empire   \n",
       "...                                                    ...   \n",
       "1223004                                             France   \n",
       "1223005                   Canada; United States of America   \n",
       "1223006                                            Germany   \n",
       "1223007                                     United Kingdom   \n",
       "1223008                                            Germany   \n",
       "\n",
       "                 Occupation  Birth year  Death year Manner of death  \\\n",
       "0                Politician        1732      1799.0  natural causes   \n",
       "1                    Artist        1952      2001.0  natural causes   \n",
       "2                Politician        1809      1865.0        homicide   \n",
       "3                    Artist        1756      1791.0             NaN   \n",
       "4                    Artist        1770      1827.0             NaN   \n",
       "...                     ...         ...         ...             ...   \n",
       "1223004       Tailor; model        1907      1996.0             NaN   \n",
       "1223005             Athlete        1948      2004.0             NaN   \n",
       "1223006  Military personnel        1920      1944.0             NaN   \n",
       "1223007              Artist        1887      1915.0             NaN   \n",
       "1223008              Artist        1938      2017.0             NaN   \n",
       "\n",
       "         Age of death  \n",
       "0                67.0  \n",
       "1                49.0  \n",
       "2                56.0  \n",
       "3                35.0  \n",
       "4                57.0  \n",
       "...               ...  \n",
       "1223004          89.0  \n",
       "1223005          56.0  \n",
       "1223006          24.0  \n",
       "1223007          28.0  \n",
       "1223008          79.0  \n",
       "\n",
       "[1223009 rows x 10 columns]"
      ]
     },
     "execution_count": 2,
     "metadata": {},
     "output_type": "execute_result"
    }
   ],
   "source": [
    "df= pd.read_csv(r'AgeDataset-V1.csv')\n",
    "df"
   ]
  },
  {
   "cell_type": "code",
   "execution_count": 3,
   "id": "0717e3bb",
   "metadata": {},
   "outputs": [
    {
     "data": {
      "text/plain": [
       "(1223009, 10)"
      ]
     },
     "execution_count": 3,
     "metadata": {},
     "output_type": "execute_result"
    }
   ],
   "source": [
    "df.shape"
   ]
  },
  {
   "cell_type": "code",
   "execution_count": 4,
   "id": "f38d45f9",
   "metadata": {},
   "outputs": [
    {
     "data": {
      "text/plain": [
       "Index(['Id', 'Name', 'Short description', 'Gender', 'Country', 'Occupation',\n",
       "       'Birth year', 'Death year', 'Manner of death', 'Age of death'],\n",
       "      dtype='object')"
      ]
     },
     "execution_count": 4,
     "metadata": {},
     "output_type": "execute_result"
    }
   ],
   "source": [
    "df.columns"
   ]
  },
  {
   "cell_type": "code",
   "execution_count": 5,
   "id": "7235ba56",
   "metadata": {},
   "outputs": [
    {
     "name": "stdout",
     "output_type": "stream",
     "text": [
      "<class 'pandas.core.frame.DataFrame'>\n",
      "RangeIndex: 1223009 entries, 0 to 1223008\n",
      "Data columns (total 10 columns):\n",
      " #   Column             Non-Null Count    Dtype  \n",
      "---  ------             --------------    -----  \n",
      " 0   Id                 1223009 non-null  object \n",
      " 1   Name               1223009 non-null  object \n",
      " 2   Short description  1155109 non-null  object \n",
      " 3   Gender             1089363 non-null  object \n",
      " 4   Country            887500 non-null   object \n",
      " 5   Occupation         1016095 non-null  object \n",
      " 6   Birth year         1223009 non-null  int64  \n",
      " 7   Death year         1223008 non-null  float64\n",
      " 8   Manner of death    53603 non-null    object \n",
      " 9   Age of death       1223008 non-null  float64\n",
      "dtypes: float64(2), int64(1), object(7)\n",
      "memory usage: 93.3+ MB\n"
     ]
    }
   ],
   "source": [
    "df.info()"
   ]
  },
  {
   "cell_type": "code",
   "execution_count": 6,
   "id": "129f5562",
   "metadata": {
    "scrolled": true
   },
   "outputs": [
    {
     "name": "stdout",
     "output_type": "stream",
     "text": [
      "Short description is having 6 % of null value\n",
      "Gender is having 11 % of null value\n",
      "Country is having 27 % of null value\n",
      "Occupation is having 17 % of null value\n",
      "Manner of death is having 96 % of null value\n"
     ]
    }
   ],
   "source": [
    "#Check the Average null Value \n",
    "null_value = [ feature for feature in df.columns if df[feature].isnull().sum()>1]\n",
    "for feature in null_value:\n",
    "    print(\"{} is having {} % of null value\".format(feature,round((df[feature].isnull().mean())*100)))\n",
    "    "
   ]
  },
  {
   "cell_type": "code",
   "execution_count": 7,
   "id": "ed7d6207",
   "metadata": {},
   "outputs": [
    {
     "data": {
      "image/png": "[encoded data removed]",
      "text/plain": [
       "<Figure size 432x288 with 1 Axes>"
      ]
     },
     "metadata": {
      "needs_background": "light"
     },
     "output_type": "display_data"
    },
    {
     "data": {
      "image/png": "[encoded data removed]",
      "text/plain": [
       "<Figure size 432x288 with 1 Axes>"
      ]
     },
     "metadata": {
      "needs_background": "light"
     },
     "output_type": "display_data"
    },
    {
     "data": {
      "image/png": "[encoded data removed]",
      "text/plain": [
       "<Figure size 432x288 with 1 Axes>"
      ]
     },
     "metadata": {
      "needs_background": "light"
     },
     "output_type": "display_data"
    },
    {
     "data": {
      "image/png": "[encoded data removed]",
      "text/plain": [
       "<Figure size 432x288 with 1 Axes>"
      ]
     },
     "metadata": {
      "needs_background": "light"
     },
     "output_type": "display_data"
    },
    {
     "data": {
      "image/png": "[encoded data removed]",
      "text/plain": [
       "<Figure size 432x288 with 1 Axes>"
      ]
     },
     "metadata": {
      "needs_background": "light"
     },
     "output_type": "display_data"
    }
   ],
   "source": [
    "#Check the impact of the missing in Age of Death\n",
    "for feature in null_value:\n",
    "    dataset =df.copy()\n",
    "    dataset[feature] = np.where(df[feature].isnull(),1,0)\n",
    "    dataset.groupby(feature)['Age of death'].median().plot.bar()\n",
    "    plt.title(feature)\n",
    "    plt.show()"
   ]
  },
  {
   "cell_type": "markdown",
   "id": "b0eff0a8",
   "metadata": {},
   "source": [
    "Null Value is creating a same impact on Age of Death"
   ]
  },
  {
   "cell_type": "code",
   "execution_count": 8,
   "id": "3b24e8eb",
   "metadata": {},
   "outputs": [
    {
     "data": {
      "text/plain": [
       "array(['natural causes', 'homicide', nan, 'suicide', 'accident',\n",
       "       'capital punishment', 'death in battle', 'unnatural death',\n",
       "       'extrajudicial killing', 'capital punishment; suicide',\n",
       "       'homicide; natural causes', 'capital punishment; homicide',\n",
       "       'euthanasia', 'suicide; natural causes',\n",
       "       'capital punishment; unnatural death', 'epilepsy', 'complication',\n",
       "       'summary execution', 'suicide; accident',\n",
       "       'suicide; homicide; accident', 'suicide; homicide; natural causes',\n",
       "       'suicide; unfortunate accident', 'gunshot', 'internal bleeding',\n",
       "       'cardiac arrest; natural causes', 'accident; natural causes',\n",
       "       'Pospíšil', 'Category:People executed by firing squad', 'era',\n",
       "       'homicide; regicide', 'capital punishment; torture',\n",
       "       'maternal death', 'strain', 'Eastern Front of World War II',\n",
       "       'sleep apnea', 'suicide attack', 'Şəhadət', 'lynching',\n",
       "       'homicide; strangling', 'killing', 'schizophrenia',\n",
       "       'homicide; ballistic trauma', 'homicide; death in absentia',\n",
       "       'patricide', 'scarlet fever', 'homicide; homicide', 'internment',\n",
       "       'robbery', 'duel', 'unfortunate accident',\n",
       "       'Israeli targeted killings', 'shooting attack', 'cyclohexylamine',\n",
       "       'capital punishment; dismemberment', 'natural disaster',\n",
       "       'death by misadventure', 'pending investigation',\n",
       "       'age; natural causes', 'labor camp', 'prisoner',\n",
       "       'suicide; homicide', 'filicide', 'homicide; accident',\n",
       "       'suicide; cyanide poisoning', 'Whitechapel murders',\n",
       "       'suicide; euthanasia', 'shipwrecking', 'capital punishment; nan',\n",
       "       'bacterial pneumonia', 'magnicide', 'suicide; nan',\n",
       "       'capital punishment; breaking wheel', 'retreat from Russia',\n",
       "       'Battle of Maserfield', 'ballistic trauma', 'war',\n",
       "       'accident; bull', 'dogfight',\n",
       "       'suicide; suicide by poisoning with drugs', 'deliberate murder',\n",
       "       'suicide; substance dependence', 'accident; occupational injury',\n",
       "       'underwater diving', 'homicide; Atentado para uno suizo Zollinger',\n",
       "       'influenza', 'accident; 2011 Lokomotiv Yaroslavl air disaster',\n",
       "       'strangling', 'dysentery', 'diabetes mellitus', 'femicide',\n",
       "       'suicide; assisted suicide', 'Action T4',\n",
       "       'unnatural death; execution by shooting', 'rape',\n",
       "       'chronic obstructive pulmonary disease', 'torture',\n",
       "       'suicide; substance abuse', 'occupational injury', 'shooting',\n",
       "       'capital punishment; auto-da-fé', 'Canserbero',\n",
       "       \"capital punishment; People's court\", 'suicide; suicide attack',\n",
       "       'immurement', 'adhesive bandage', 'assisted suicide', 'falling',\n",
       "       'capital punishment in the United States',\n",
       "       'Atentado para uno suizo Zollinger', 'Virginia Tech shooting',\n",
       "       'natural causes; transition', 'homicide; syncope',\n",
       "       '2010 Thai political protests', 'collateral damage',\n",
       "       'urinary retention; natural causes', 'homicide; magnicide',\n",
       "       'Bombing of Berlin in World War II', 'lethal injection',\n",
       "       'operation', 'police operation', 'peine forte et dure',\n",
       "       'homicide; torture murder', 'hunger strike', 'Avianca Flight 203',\n",
       "       'public execution', 'transition', 'Esophageal Cancer',\n",
       "       'homicide; accident; natural causes', 'homicide; police action',\n",
       "       'ambush', 'sinking of the SS Ville-du-Havre', 'eating',\n",
       "       'capital punishment in France', 'September Massacres',\n",
       "       'deportation', 'uterine cancer', 'work accident',\n",
       "       'Siege of Danzig', 'capital punishment; summary execution',\n",
       "       'unlawful killing', 'suicide; Aerial ramming',\n",
       "       \"July 1958 Haitian coup d'état attempt\", 'homicide; bomb attack',\n",
       "       'friendly fire', 'homicide; duel', 'stabbing', 'criminal charge',\n",
       "       'accident; killed by own invention', 'intracranial thrombosis',\n",
       "       'surgical procedure', 'Spanish Civil War', 'combat', 'disaster',\n",
       "       'armed robbery', 'missing person', 'manslaughter',\n",
       "       'suicide; seppuku', 'postoperative complications',\n",
       "       'homicide; criminal charge', 'capital punishment; suicide; nan',\n",
       "       'tram accident', 'torture; homicide', 'bayonet',\n",
       "       'homicide; shooting', 'lymphoma', 'aortic aneurysm',\n",
       "       'accident; Tsurumi rail accident', 'battle', 'The Holocaust',\n",
       "       'homicide; unnatural death', 'epidemic',\n",
       "       'research; natural causes', 'starvation', 'brain neoplasm',\n",
       "       'homicide; gas chamber', 'aerial warfare', 'torpedo',\n",
       "       'homicide; pending investigation', 'type 2 diabetes mellitus',\n",
       "       'explosion', 'World War I', 'suicide; ranged weapon',\n",
       "       'Lagny-Pomponne rail accident', 'knockout', 'cholera outbreak',\n",
       "       'cold case', '2015 Saint-Denis raid', 'Euthanasia trials',\n",
       "       'collapse of the World Trade Center', 'homicide; War in Donbass',\n",
       "       'chemical warfare', 'shipwreck', 'aerial bomb', 'fever',\n",
       "       'homicide; Martyrs of the Spanish Civil War',\n",
       "       'homicide; homicide; homicide', 'justifiable homicide',\n",
       "       'matricide', 'capital punishment; Garrote', 'crushing',\n",
       "       'rebellion', 'Holocaust victim', 'accident; shooting', 'unknown',\n",
       "       'war; suicide', 'White Terror', 'stomach cancer'], dtype=object)"
      ]
     },
     "execution_count": 8,
     "metadata": {},
     "output_type": "execute_result"
    }
   ],
   "source": [
    "df['Manner of death'].unique()"
   ]
  },
  {
   "cell_type": "code",
   "execution_count": 9,
   "id": "fb099a9e",
   "metadata": {},
   "outputs": [
    {
     "data": {
      "text/plain": [
       "<AxesSubplot:>"
      ]
     },
     "execution_count": 9,
     "metadata": {},
     "output_type": "execute_result"
    },
    {
     "data": {
      "image/png": "[encoded data removed]",
      "text/plain": [
       "<Figure size 432x288 with 1 Axes>"
      ]
     },
     "metadata": {
      "needs_background": "light"
     },
     "output_type": "display_data"
    }
   ],
   "source": [
    "df['Age of death'].hist(bins=20)"
   ]
  },
  {
   "cell_type": "code",
   "execution_count": 10,
   "id": "cefb76dd",
   "metadata": {},
   "outputs": [
    {
     "data": {
      "text/html": [
       "<div>\n",
       "<style scoped>\n",
       "    .dataframe tbody tr th:only-of-type {\n",
       "        vertical-align: middle;\n",
       "    }\n",
       "\n",
       "    .dataframe tbody tr th {\n",
       "        vertical-align: top;\n",
       "    }\n",
       "\n",
       "    .dataframe thead th {\n",
       "        text-align: right;\n",
       "    }\n",
       "</style>\n",
       "<table border=\"1\" class=\"dataframe\">\n",
       "  <thead>\n",
       "    <tr style=\"text-align: right;\">\n",
       "      <th></th>\n",
       "      <th>Birth year</th>\n",
       "      <th>Death year</th>\n",
       "      <th>Age of death</th>\n",
       "    </tr>\n",
       "  </thead>\n",
       "  <tbody>\n",
       "    <tr>\n",
       "      <th>count</th>\n",
       "      <td>1223009.0</td>\n",
       "      <td>1223008.0</td>\n",
       "      <td>1223008.0</td>\n",
       "    </tr>\n",
       "    <tr>\n",
       "      <th>mean</th>\n",
       "      <td>1845.0</td>\n",
       "      <td>1914.0</td>\n",
       "      <td>69.0</td>\n",
       "    </tr>\n",
       "    <tr>\n",
       "      <th>std</th>\n",
       "      <td>148.0</td>\n",
       "      <td>152.0</td>\n",
       "      <td>17.0</td>\n",
       "    </tr>\n",
       "    <tr>\n",
       "      <th>min</th>\n",
       "      <td>-2700.0</td>\n",
       "      <td>-2659.0</td>\n",
       "      <td>0.0</td>\n",
       "    </tr>\n",
       "    <tr>\n",
       "      <th>25%</th>\n",
       "      <td>1828.0</td>\n",
       "      <td>1895.0</td>\n",
       "      <td>60.0</td>\n",
       "    </tr>\n",
       "    <tr>\n",
       "      <th>50%</th>\n",
       "      <td>1887.0</td>\n",
       "      <td>1955.0</td>\n",
       "      <td>72.0</td>\n",
       "    </tr>\n",
       "    <tr>\n",
       "      <th>75%</th>\n",
       "      <td>1918.0</td>\n",
       "      <td>1994.0</td>\n",
       "      <td>81.0</td>\n",
       "    </tr>\n",
       "    <tr>\n",
       "      <th>max</th>\n",
       "      <td>2016.0</td>\n",
       "      <td>2021.0</td>\n",
       "      <td>169.0</td>\n",
       "    </tr>\n",
       "  </tbody>\n",
       "</table>\n",
       "</div>"
      ],
      "text/plain": [
       "       Birth year  Death year  Age of death\n",
       "count   1223009.0   1223008.0     1223008.0\n",
       "mean       1845.0      1914.0          69.0\n",
       "std         148.0       152.0          17.0\n",
       "min       -2700.0     -2659.0           0.0\n",
       "25%        1828.0      1895.0          60.0\n",
       "50%        1887.0      1955.0          72.0\n",
       "75%        1918.0      1994.0          81.0\n",
       "max        2016.0      2021.0         169.0"
      ]
     },
     "execution_count": 10,
     "metadata": {},
     "output_type": "execute_result"
    }
   ],
   "source": [
    "df.describe().round()"
   ]
  },
  {
   "cell_type": "code",
   "execution_count": 11,
   "id": "c0d7f9e0",
   "metadata": {},
   "outputs": [
    {
     "data": {
      "text/plain": [
       "<AxesSubplot:xlabel='Age of death'>"
      ]
     },
     "execution_count": 11,
     "metadata": {},
     "output_type": "execute_result"
    },
    {
     "data": {
      "image/png": "[encoded data removed]",
      "text/plain": [
       "<Figure size 432x288 with 1 Axes>"
      ]
     },
     "metadata": {
      "needs_background": "light"
     },
     "output_type": "display_data"
    }
   ],
   "source": [
    "sns.boxplot(data=df,x=df['Age of death'])"
   ]
  },
  {
   "cell_type": "markdown",
   "id": "fcc050e7",
   "metadata": {},
   "source": [
    " \n",
    "-Few was died at age of zero \n",
    "-Few was died after 125 (it is possible but in very rare cases)"
   ]
  },
  {
   "cell_type": "code",
   "execution_count": 12,
   "id": "759155c6",
   "metadata": {},
   "outputs": [
    {
     "data": {
      "text/plain": [
       "<AxesSubplot:ylabel='Density'>"
      ]
     },
     "execution_count": 12,
     "metadata": {},
     "output_type": "execute_result"
    },
    {
     "data": {
      "image/png": "[encoded data removed]",
      "text/plain": [
       "<Figure size 432x288 with 1 Axes>"
      ]
     },
     "metadata": {
      "needs_background": "light"
     },
     "output_type": "display_data"
    }
   ],
   "source": [
    "import warnings\n",
    "warnings.filterwarnings('ignore')\n",
    "sns.distplot(x=df['Age of death'])"
   ]
  },
  {
   "cell_type": "markdown",
   "id": "341439d9",
   "metadata": {},
   "source": [
    "-Max people were died between Age of 65 to 95"
   ]
  },
  {
   "cell_type": "code",
   "execution_count": 13,
   "id": "ed8e285c",
   "metadata": {},
   "outputs": [
    {
     "data": {
      "text/plain": [
       "Male                                              981365\n",
       "Female                                            107830\n",
       "Transgender Female                                    79\n",
       "Transgender Male                                      36\n",
       "Eunuch; Male                                          18\n",
       "Intersex                                               7\n",
       "Female; Male                                           7\n",
       "Eunuch                                                 3\n",
       "Transgender Male; Female                               3\n",
       "Intersex; Female                                       2\n",
       "Non-Binary                                             2\n",
       "Intersex; Male                                         2\n",
       "Transgender Female; Male                               2\n",
       "Female; Female                                         1\n",
       "Transgender Female; Intersex                           1\n",
       "Transgender Female; Female                             1\n",
       "Transgender Male; Male                                 1\n",
       "Intersex; Transgender Male                             1\n",
       "Transgender Person; Intersex; Transgender Male         1\n",
       "Non-Binary; Intersex                                   1\n",
       "Name: Gender, dtype: int64"
      ]
     },
     "execution_count": 13,
     "metadata": {},
     "output_type": "execute_result"
    }
   ],
   "source": [
    "df['Gender'].value_counts()"
   ]
  },
  {
   "cell_type": "code",
   "execution_count": 14,
   "id": "c6090b1d",
   "metadata": {},
   "outputs": [
    {
     "data": {
      "image/png": "[encoded data removed]",
      "text/plain": [
       "<Figure size 432x288 with 1 Axes>"
      ]
     },
     "metadata": {
      "needs_background": "light"
     },
     "output_type": "display_data"
    },
    {
     "data": {
      "image/png": "[encoded data removed]",
      "text/plain": [
       "<Figure size 432x288 with 1 Axes>"
      ]
     },
     "metadata": {
      "needs_background": "light"
     },
     "output_type": "display_data"
    },
    {
     "data": {
      "image/png": "[encoded data removed]",
      "text/plain": [
       "<Figure size 432x288 with 1 Axes>"
      ]
     },
     "metadata": {
      "needs_background": "light"
     },
     "output_type": "display_data"
    },
    {
     "data": {
      "image/png": "[encoded data removed]",
      "text/plain": [
       "<Figure size 432x288 with 1 Axes>"
      ]
     },
     "metadata": {
      "needs_background": "light"
     },
     "output_type": "display_data"
    }
   ],
   "source": [
    "categorical_value =[feature for feature in df.columns if df[feature].dtypes =='object' and feature not in ['Id']+ ['Name']+['Short description']]\n",
    "for feature in categorical_value:\n",
    "    dataset_final =df.copy()\n",
    "    dataset_final.groupby(feature)['Age of death'].mean().nlargest(10).plot(kind='barh') \n",
    "    plt.show()"
   ]
  },
  {
   "cell_type": "markdown",
   "id": "63a431a1",
   "metadata": {},
   "source": [
    "-type 2 diabetes petient were died earlier.\n",
    "-Farmer lecturer occupation people has higher avg. age of death (survied more.)\n",
    "-Those people who belong from jamaica, they survied for longer period."
   ]
  },
  {
   "cell_type": "code",
   "execution_count": 15,
   "id": "d2101593",
   "metadata": {},
   "outputs": [
    {
     "data": {
      "image/png": "[encoded data removed]",
      "text/plain": [
       "<Figure size 432x288 with 1 Axes>"
      ]
     },
     "metadata": {
      "needs_background": "light"
     },
     "output_type": "display_data"
    },
    {
     "data": {
      "image/png": "[encoded data removed]",
      "text/plain": [
       "<Figure size 432x288 with 1 Axes>"
      ]
     },
     "metadata": {
      "needs_background": "light"
     },
     "output_type": "display_data"
    },
    {
     "data": {
      "image/png": "[encoded data removed]",
      "text/plain": [
       "<Figure size 432x288 with 1 Axes>"
      ]
     },
     "metadata": {
      "needs_background": "light"
     },
     "output_type": "display_data"
    },
    {
     "data": {
      "image/png": "[encoded data removed]",
      "text/plain": [
       "<Figure size 432x288 with 1 Axes>"
      ]
     },
     "metadata": {
      "needs_background": "light"
     },
     "output_type": "display_data"
    }
   ],
   "source": [
    "for feature in categorical_value:\n",
    "    dataset_final[feature].value_counts().nlargest(10).plot(kind='barh')\n",
    "    plt.xlabel('Count')\n",
    "    plt.ylabel(feature)\n",
    "    plt.show()\n"
   ]
  },
  {
   "cell_type": "markdown",
   "id": "b65a154b",
   "metadata": {},
   "source": [
    "-Most of the known people were from USA"
   ]
  },
  {
   "cell_type": "code",
   "execution_count": 16,
   "id": "3aa408b1",
   "metadata": {},
   "outputs": [
    {
     "data": {
      "text/html": [
       "<div>\n",
       "<style scoped>\n",
       "    .dataframe tbody tr th:only-of-type {\n",
       "        vertical-align: middle;\n",
       "    }\n",
       "\n",
       "    .dataframe tbody tr th {\n",
       "        vertical-align: top;\n",
       "    }\n",
       "\n",
       "    .dataframe thead th {\n",
       "        text-align: right;\n",
       "    }\n",
       "</style>\n",
       "<table border=\"1\" class=\"dataframe\">\n",
       "  <thead>\n",
       "    <tr style=\"text-align: right;\">\n",
       "      <th></th>\n",
       "      <th>Id</th>\n",
       "      <th>Name</th>\n",
       "      <th>Short description</th>\n",
       "      <th>Gender</th>\n",
       "      <th>Country</th>\n",
       "      <th>Occupation</th>\n",
       "      <th>Birth year</th>\n",
       "      <th>Death year</th>\n",
       "      <th>Manner of death</th>\n",
       "      <th>Age of death</th>\n",
       "    </tr>\n",
       "  </thead>\n",
       "  <tbody>\n",
       "    <tr>\n",
       "      <th>0</th>\n",
       "      <td>Q23</td>\n",
       "      <td>George Washington</td>\n",
       "      <td>1st president of the United States (1732–1799)</td>\n",
       "      <td>Male</td>\n",
       "      <td>United States of America; Kingdom of Great Bri...</td>\n",
       "      <td>Politician</td>\n",
       "      <td>1732</td>\n",
       "      <td>1799.0</td>\n",
       "      <td>0</td>\n",
       "      <td>67.0</td>\n",
       "    </tr>\n",
       "    <tr>\n",
       "      <th>1</th>\n",
       "      <td>Q42</td>\n",
       "      <td>Douglas Adams</td>\n",
       "      <td>English writer and humorist</td>\n",
       "      <td>Male</td>\n",
       "      <td>United Kingdom</td>\n",
       "      <td>Artist</td>\n",
       "      <td>1952</td>\n",
       "      <td>2001.0</td>\n",
       "      <td>0</td>\n",
       "      <td>49.0</td>\n",
       "    </tr>\n",
       "    <tr>\n",
       "      <th>2</th>\n",
       "      <td>Q91</td>\n",
       "      <td>Abraham Lincoln</td>\n",
       "      <td>16th president of the United States (1809-1865)</td>\n",
       "      <td>Male</td>\n",
       "      <td>United States of America</td>\n",
       "      <td>Politician</td>\n",
       "      <td>1809</td>\n",
       "      <td>1865.0</td>\n",
       "      <td>0</td>\n",
       "      <td>56.0</td>\n",
       "    </tr>\n",
       "    <tr>\n",
       "      <th>3</th>\n",
       "      <td>Q254</td>\n",
       "      <td>Wolfgang Amadeus Mozart</td>\n",
       "      <td>Austrian composer of the Classical period</td>\n",
       "      <td>Male</td>\n",
       "      <td>Archduchy of Austria; Archbishopric of Salzburg</td>\n",
       "      <td>Artist</td>\n",
       "      <td>1756</td>\n",
       "      <td>1791.0</td>\n",
       "      <td>1</td>\n",
       "      <td>35.0</td>\n",
       "    </tr>\n",
       "    <tr>\n",
       "      <th>4</th>\n",
       "      <td>Q255</td>\n",
       "      <td>Ludwig van Beethoven</td>\n",
       "      <td>German classical and romantic composer</td>\n",
       "      <td>Male</td>\n",
       "      <td>Holy Roman Empire; Austrian Empire</td>\n",
       "      <td>Artist</td>\n",
       "      <td>1770</td>\n",
       "      <td>1827.0</td>\n",
       "      <td>1</td>\n",
       "      <td>57.0</td>\n",
       "    </tr>\n",
       "    <tr>\n",
       "      <th>...</th>\n",
       "      <td>...</td>\n",
       "      <td>...</td>\n",
       "      <td>...</td>\n",
       "      <td>...</td>\n",
       "      <td>...</td>\n",
       "      <td>...</td>\n",
       "      <td>...</td>\n",
       "      <td>...</td>\n",
       "      <td>...</td>\n",
       "      <td>...</td>\n",
       "    </tr>\n",
       "    <tr>\n",
       "      <th>1223004</th>\n",
       "      <td>Q77247326</td>\n",
       "      <td>Marie-Fortunée Besson</td>\n",
       "      <td>Frans model (1907-1996)</td>\n",
       "      <td>NaN</td>\n",
       "      <td>France</td>\n",
       "      <td>Tailor; model</td>\n",
       "      <td>1907</td>\n",
       "      <td>1996.0</td>\n",
       "      <td>1</td>\n",
       "      <td>89.0</td>\n",
       "    </tr>\n",
       "    <tr>\n",
       "      <th>1223005</th>\n",
       "      <td>Q77249504</td>\n",
       "      <td>Ron Thorsen</td>\n",
       "      <td>xugador de baloncestu canadianu (1948–2004)</td>\n",
       "      <td>NaN</td>\n",
       "      <td>Canada; United States of America</td>\n",
       "      <td>Athlete</td>\n",
       "      <td>1948</td>\n",
       "      <td>2004.0</td>\n",
       "      <td>1</td>\n",
       "      <td>56.0</td>\n",
       "    </tr>\n",
       "    <tr>\n",
       "      <th>1223006</th>\n",
       "      <td>Q77249818</td>\n",
       "      <td>Diether Todenhagen</td>\n",
       "      <td>German navy officer and world war II U-boat co...</td>\n",
       "      <td>NaN</td>\n",
       "      <td>Germany</td>\n",
       "      <td>Military personnel</td>\n",
       "      <td>1920</td>\n",
       "      <td>1944.0</td>\n",
       "      <td>1</td>\n",
       "      <td>24.0</td>\n",
       "    </tr>\n",
       "    <tr>\n",
       "      <th>1223007</th>\n",
       "      <td>Q77253909</td>\n",
       "      <td>Reginald Oswald Pearson</td>\n",
       "      <td>English artist, working in stained glass, prin...</td>\n",
       "      <td>Male</td>\n",
       "      <td>United Kingdom</td>\n",
       "      <td>Artist</td>\n",
       "      <td>1887</td>\n",
       "      <td>1915.0</td>\n",
       "      <td>1</td>\n",
       "      <td>28.0</td>\n",
       "    </tr>\n",
       "    <tr>\n",
       "      <th>1223008</th>\n",
       "      <td>Q77254864</td>\n",
       "      <td>Horst Lerche</td>\n",
       "      <td>German painter</td>\n",
       "      <td>Male</td>\n",
       "      <td>Germany</td>\n",
       "      <td>Artist</td>\n",
       "      <td>1938</td>\n",
       "      <td>2017.0</td>\n",
       "      <td>1</td>\n",
       "      <td>79.0</td>\n",
       "    </tr>\n",
       "  </tbody>\n",
       "</table>\n",
       "<p>1223009 rows × 10 columns</p>\n",
       "</div>"
      ],
      "text/plain": [
       "                Id                     Name  \\\n",
       "0              Q23        George Washington   \n",
       "1              Q42            Douglas Adams   \n",
       "2              Q91          Abraham Lincoln   \n",
       "3             Q254  Wolfgang Amadeus Mozart   \n",
       "4             Q255     Ludwig van Beethoven   \n",
       "...            ...                      ...   \n",
       "1223004  Q77247326    Marie-Fortunée Besson   \n",
       "1223005  Q77249504              Ron Thorsen   \n",
       "1223006  Q77249818       Diether Todenhagen   \n",
       "1223007  Q77253909  Reginald Oswald Pearson   \n",
       "1223008  Q77254864             Horst Lerche   \n",
       "\n",
       "                                         Short description Gender  \\\n",
       "0           1st president of the United States (1732–1799)   Male   \n",
       "1                              English writer and humorist   Male   \n",
       "2          16th president of the United States (1809-1865)   Male   \n",
       "3                Austrian composer of the Classical period   Male   \n",
       "4                   German classical and romantic composer   Male   \n",
       "...                                                    ...    ...   \n",
       "1223004                            Frans model (1907-1996)    NaN   \n",
       "1223005        xugador de baloncestu canadianu (1948–2004)    NaN   \n",
       "1223006  German navy officer and world war II U-boat co...    NaN   \n",
       "1223007  English artist, working in stained glass, prin...   Male   \n",
       "1223008                                     German painter   Male   \n",
       "\n",
       "                                                   Country  \\\n",
       "0        United States of America; Kingdom of Great Bri...   \n",
       "1                                           United Kingdom   \n",
       "2                                 United States of America   \n",
       "3          Archduchy of Austria; Archbishopric of Salzburg   \n",
       "4                       Holy Roman Empire; Austrian Empire   \n",
       "...                                                    ...   \n",
       "1223004                                             France   \n",
       "1223005                   Canada; United States of America   \n",
       "1223006                                            Germany   \n",
       "1223007                                     United Kingdom   \n",
       "1223008                                            Germany   \n",
       "\n",
       "                 Occupation  Birth year  Death year  Manner of death  \\\n",
       "0                Politician        1732      1799.0                0   \n",
       "1                    Artist        1952      2001.0                0   \n",
       "2                Politician        1809      1865.0                0   \n",
       "3                    Artist        1756      1791.0                1   \n",
       "4                    Artist        1770      1827.0                1   \n",
       "...                     ...         ...         ...              ...   \n",
       "1223004       Tailor; model        1907      1996.0                1   \n",
       "1223005             Athlete        1948      2004.0                1   \n",
       "1223006  Military personnel        1920      1944.0                1   \n",
       "1223007              Artist        1887      1915.0                1   \n",
       "1223008              Artist        1938      2017.0                1   \n",
       "\n",
       "         Age of death  \n",
       "0                67.0  \n",
       "1                49.0  \n",
       "2                56.0  \n",
       "3                35.0  \n",
       "4                57.0  \n",
       "...               ...  \n",
       "1223004          89.0  \n",
       "1223005          56.0  \n",
       "1223006          24.0  \n",
       "1223007          28.0  \n",
       "1223008          79.0  \n",
       "\n",
       "[1223009 rows x 10 columns]"
      ]
     },
     "execution_count": 16,
     "metadata": {},
     "output_type": "execute_result"
    }
   ],
   "source": [
    "dataset"
   ]
  },
  {
   "cell_type": "code",
   "execution_count": 17,
   "id": "c88abec4",
   "metadata": {},
   "outputs": [],
   "source": [
    "dataset_final = dataset_final[dataset_final['Gender'].isin(['Male','Female'])]\n"
   ]
  },
  {
   "cell_type": "code",
   "execution_count": 18,
   "id": "83c28f1b",
   "metadata": {},
   "outputs": [
    {
     "data": {
      "image/png": "[encoded data removed]",
      "text/plain": [
       "<Figure size 432x288 with 1 Axes>"
      ]
     },
     "metadata": {
      "needs_background": "light"
     },
     "output_type": "display_data"
    },
    {
     "data": {
      "image/png": "[encoded data removed]",
      "text/plain": [
       "<Figure size 432x288 with 1 Axes>"
      ]
     },
     "metadata": {
      "needs_background": "light"
     },
     "output_type": "display_data"
    },
    {
     "data": {
      "image/png": "[encoded data removed]",
      "text/plain": [
       "<Figure size 432x288 with 1 Axes>"
      ]
     },
     "metadata": {
      "needs_background": "light"
     },
     "output_type": "display_data"
    }
   ],
   "source": [
    "categorical_feature =[feature for feature in dataset_final.columns if dataset_final[feature].dtypes =='object' and feature not in ['Id']+ ['Name']+['Short description']+['Gender']]\n",
    "for feature in categorical_feature:\n",
    "    sns.countplot(x=dataset_final[feature],data=dataset_final,hue='Gender',order=dataset_final[feature].value_counts().nlargest(10).index)\n",
    "    plt.xticks(rotation=90)\n",
    "    plt.show()\n",
    "    \n",
    "    \n",
    "      \n",
    "  \n",
    "    \n",
    "    "
   ]
  },
  {
   "cell_type": "markdown",
   "id": "9208e947",
   "metadata": {},
   "source": [
    "- Most of the famous people having a profession of Artist and politician \n",
    "- Max. belong to USA, Germany and UK"
   ]
  },
  {
   "cell_type": "code",
   "execution_count": 19,
   "id": "a6d4c424",
   "metadata": {},
   "outputs": [
    {
     "data": {
      "text/plain": [
       "400"
      ]
     },
     "execution_count": 19,
     "metadata": {},
     "output_type": "execute_result"
    }
   ],
   "source": [
    "len(dataset_final[dataset_final.duplicated(['Name','Birth year','Death year'])])"
   ]
  },
  {
   "cell_type": "code",
   "execution_count": 20,
   "id": "927c0e33",
   "metadata": {},
   "outputs": [],
   "source": [
    "Data_new= dataset_final.drop_duplicates(subset=['Name','Birth year','Death year'],keep=False)"
   ]
  },
  {
   "cell_type": "code",
   "execution_count": 21,
   "id": "2a4de745",
   "metadata": {},
   "outputs": [
    {
     "data": {
      "text/plain": [
       "0"
      ]
     },
     "execution_count": 21,
     "metadata": {},
     "output_type": "execute_result"
    }
   ],
   "source": [
    "len(Data_new[Data_new.duplicated(['Name','Birth year','Death year'])])"
   ]
  },
  {
   "cell_type": "code",
   "execution_count": 22,
   "id": "67e86e41",
   "metadata": {},
   "outputs": [
    {
     "data": {
      "text/html": [
       "<div>\n",
       "<style scoped>\n",
       "    .dataframe tbody tr th:only-of-type {\n",
       "        vertical-align: middle;\n",
       "    }\n",
       "\n",
       "    .dataframe tbody tr th {\n",
       "        vertical-align: top;\n",
       "    }\n",
       "\n",
       "    .dataframe thead th {\n",
       "        text-align: right;\n",
       "    }\n",
       "</style>\n",
       "<table border=\"1\" class=\"dataframe\">\n",
       "  <thead>\n",
       "    <tr style=\"text-align: right;\">\n",
       "      <th></th>\n",
       "      <th>Id</th>\n",
       "      <th>Name</th>\n",
       "      <th>Short description</th>\n",
       "      <th>Gender</th>\n",
       "      <th>Country</th>\n",
       "      <th>Occupation</th>\n",
       "      <th>Birth year</th>\n",
       "      <th>Death year</th>\n",
       "      <th>Manner of death</th>\n",
       "      <th>Age of death</th>\n",
       "    </tr>\n",
       "  </thead>\n",
       "  <tbody>\n",
       "    <tr>\n",
       "      <th>0</th>\n",
       "      <td>Q23</td>\n",
       "      <td>George Washington</td>\n",
       "      <td>1st president of the United States (1732–1799)</td>\n",
       "      <td>Male</td>\n",
       "      <td>United States of America; Kingdom of Great Bri...</td>\n",
       "      <td>Politician</td>\n",
       "      <td>1732</td>\n",
       "      <td>1799.0</td>\n",
       "      <td>natural causes</td>\n",
       "      <td>67.0</td>\n",
       "    </tr>\n",
       "    <tr>\n",
       "      <th>1</th>\n",
       "      <td>Q42</td>\n",
       "      <td>Douglas Adams</td>\n",
       "      <td>English writer and humorist</td>\n",
       "      <td>Male</td>\n",
       "      <td>United Kingdom</td>\n",
       "      <td>Artist</td>\n",
       "      <td>1952</td>\n",
       "      <td>2001.0</td>\n",
       "      <td>natural causes</td>\n",
       "      <td>49.0</td>\n",
       "    </tr>\n",
       "    <tr>\n",
       "      <th>2</th>\n",
       "      <td>Q91</td>\n",
       "      <td>Abraham Lincoln</td>\n",
       "      <td>16th president of the United States (1809-1865)</td>\n",
       "      <td>Male</td>\n",
       "      <td>United States of America</td>\n",
       "      <td>Politician</td>\n",
       "      <td>1809</td>\n",
       "      <td>1865.0</td>\n",
       "      <td>homicide</td>\n",
       "      <td>56.0</td>\n",
       "    </tr>\n",
       "    <tr>\n",
       "      <th>3</th>\n",
       "      <td>Q254</td>\n",
       "      <td>Wolfgang Amadeus Mozart</td>\n",
       "      <td>Austrian composer of the Classical period</td>\n",
       "      <td>Male</td>\n",
       "      <td>Archduchy of Austria; Archbishopric of Salzburg</td>\n",
       "      <td>Artist</td>\n",
       "      <td>1756</td>\n",
       "      <td>1791.0</td>\n",
       "      <td>NaN</td>\n",
       "      <td>35.0</td>\n",
       "    </tr>\n",
       "    <tr>\n",
       "      <th>4</th>\n",
       "      <td>Q255</td>\n",
       "      <td>Ludwig van Beethoven</td>\n",
       "      <td>German classical and romantic composer</td>\n",
       "      <td>Male</td>\n",
       "      <td>Holy Roman Empire; Austrian Empire</td>\n",
       "      <td>Artist</td>\n",
       "      <td>1770</td>\n",
       "      <td>1827.0</td>\n",
       "      <td>NaN</td>\n",
       "      <td>57.0</td>\n",
       "    </tr>\n",
       "    <tr>\n",
       "      <th>...</th>\n",
       "      <td>...</td>\n",
       "      <td>...</td>\n",
       "      <td>...</td>\n",
       "      <td>...</td>\n",
       "      <td>...</td>\n",
       "      <td>...</td>\n",
       "      <td>...</td>\n",
       "      <td>...</td>\n",
       "      <td>...</td>\n",
       "      <td>...</td>\n",
       "    </tr>\n",
       "    <tr>\n",
       "      <th>1222997</th>\n",
       "      <td>Q77207528</td>\n",
       "      <td>Kurt Denecke</td>\n",
       "      <td>surgeon</td>\n",
       "      <td>Male</td>\n",
       "      <td>NaN</td>\n",
       "      <td>Physician</td>\n",
       "      <td>1903</td>\n",
       "      <td>1991.0</td>\n",
       "      <td>NaN</td>\n",
       "      <td>88.0</td>\n",
       "    </tr>\n",
       "    <tr>\n",
       "      <th>1222998</th>\n",
       "      <td>Q77217025</td>\n",
       "      <td>Peter Albrechtsen</td>\n",
       "      <td>grönländischer Landesrat</td>\n",
       "      <td>Male</td>\n",
       "      <td>NaN</td>\n",
       "      <td>NaN</td>\n",
       "      <td>1891</td>\n",
       "      <td>1929.0</td>\n",
       "      <td>NaN</td>\n",
       "      <td>38.0</td>\n",
       "    </tr>\n",
       "    <tr>\n",
       "      <th>1223000</th>\n",
       "      <td>Q77218559</td>\n",
       "      <td>Gustav Siber</td>\n",
       "      <td>entrepreneur from Switzerland</td>\n",
       "      <td>Male</td>\n",
       "      <td>Switzerland</td>\n",
       "      <td>Entrepreneur</td>\n",
       "      <td>1857</td>\n",
       "      <td>1924.0</td>\n",
       "      <td>NaN</td>\n",
       "      <td>67.0</td>\n",
       "    </tr>\n",
       "    <tr>\n",
       "      <th>1223007</th>\n",
       "      <td>Q77253909</td>\n",
       "      <td>Reginald Oswald Pearson</td>\n",
       "      <td>English artist, working in stained glass, prin...</td>\n",
       "      <td>Male</td>\n",
       "      <td>United Kingdom</td>\n",
       "      <td>Artist</td>\n",
       "      <td>1887</td>\n",
       "      <td>1915.0</td>\n",
       "      <td>NaN</td>\n",
       "      <td>28.0</td>\n",
       "    </tr>\n",
       "    <tr>\n",
       "      <th>1223008</th>\n",
       "      <td>Q77254864</td>\n",
       "      <td>Horst Lerche</td>\n",
       "      <td>German painter</td>\n",
       "      <td>Male</td>\n",
       "      <td>Germany</td>\n",
       "      <td>Artist</td>\n",
       "      <td>1938</td>\n",
       "      <td>2017.0</td>\n",
       "      <td>NaN</td>\n",
       "      <td>79.0</td>\n",
       "    </tr>\n",
       "  </tbody>\n",
       "</table>\n",
       "<p>1088395 rows × 10 columns</p>\n",
       "</div>"
      ],
      "text/plain": [
       "                Id                     Name  \\\n",
       "0              Q23        George Washington   \n",
       "1              Q42            Douglas Adams   \n",
       "2              Q91          Abraham Lincoln   \n",
       "3             Q254  Wolfgang Amadeus Mozart   \n",
       "4             Q255     Ludwig van Beethoven   \n",
       "...            ...                      ...   \n",
       "1222997  Q77207528             Kurt Denecke   \n",
       "1222998  Q77217025        Peter Albrechtsen   \n",
       "1223000  Q77218559             Gustav Siber   \n",
       "1223007  Q77253909  Reginald Oswald Pearson   \n",
       "1223008  Q77254864             Horst Lerche   \n",
       "\n",
       "                                         Short description Gender  \\\n",
       "0           1st president of the United States (1732–1799)   Male   \n",
       "1                              English writer and humorist   Male   \n",
       "2          16th president of the United States (1809-1865)   Male   \n",
       "3                Austrian composer of the Classical period   Male   \n",
       "4                   German classical and romantic composer   Male   \n",
       "...                                                    ...    ...   \n",
       "1222997                                            surgeon   Male   \n",
       "1222998                           grönländischer Landesrat   Male   \n",
       "1223000                      entrepreneur from Switzerland   Male   \n",
       "1223007  English artist, working in stained glass, prin...   Male   \n",
       "1223008                                     German painter   Male   \n",
       "\n",
       "                                                   Country    Occupation  \\\n",
       "0        United States of America; Kingdom of Great Bri...    Politician   \n",
       "1                                           United Kingdom        Artist   \n",
       "2                                 United States of America    Politician   \n",
       "3          Archduchy of Austria; Archbishopric of Salzburg        Artist   \n",
       "4                       Holy Roman Empire; Austrian Empire        Artist   \n",
       "...                                                    ...           ...   \n",
       "1222997                                                NaN     Physician   \n",
       "1222998                                                NaN           NaN   \n",
       "1223000                                        Switzerland  Entrepreneur   \n",
       "1223007                                     United Kingdom        Artist   \n",
       "1223008                                            Germany        Artist   \n",
       "\n",
       "         Birth year  Death year Manner of death  Age of death  \n",
       "0              1732      1799.0  natural causes          67.0  \n",
       "1              1952      2001.0  natural causes          49.0  \n",
       "2              1809      1865.0        homicide          56.0  \n",
       "3              1756      1791.0             NaN          35.0  \n",
       "4              1770      1827.0             NaN          57.0  \n",
       "...             ...         ...             ...           ...  \n",
       "1222997        1903      1991.0             NaN          88.0  \n",
       "1222998        1891      1929.0             NaN          38.0  \n",
       "1223000        1857      1924.0             NaN          67.0  \n",
       "1223007        1887      1915.0             NaN          28.0  \n",
       "1223008        1938      2017.0             NaN          79.0  \n",
       "\n",
       "[1088395 rows x 10 columns]"
      ]
     },
     "execution_count": 22,
     "metadata": {},
     "output_type": "execute_result"
    }
   ],
   "source": [
    "Data_new"
   ]
  },
  {
   "cell_type": "code",
   "execution_count": 23,
   "id": "a7d9f5d9",
   "metadata": {},
   "outputs": [],
   "source": [
    "#Data_new=Data_new.loc[:,['Country','Occupation','Manner of death']].fillna('Missing')\n",
    "#Data_new"
   ]
  },
  {
   "cell_type": "code",
   "execution_count": 24,
   "id": "c7ba55bf",
   "metadata": {},
   "outputs": [],
   "source": [
    "#Data_new['Manner of death'].value_counts()"
   ]
  },
  {
   "cell_type": "code",
   "execution_count": 25,
   "id": "b86d9bbe",
   "metadata": {},
   "outputs": [
    {
     "data": {
      "text/plain": [
       "(array([0, 1, 2, 3, 4, 5, 6, 7, 8, 9]),\n",
       " [Text(0, 0, 'natural causes'),\n",
       "  Text(1, 0, 'suicide'),\n",
       "  Text(2, 0, 'accident'),\n",
       "  Text(3, 0, 'homicide'),\n",
       "  Text(4, 0, 'capital punishment'),\n",
       "  Text(5, 0, 'unnatural death'),\n",
       "  Text(6, 0, 'death in battle'),\n",
       "  Text(7, 0, 'capital punishment; unnatural death'),\n",
       "  Text(8, 0, 'capital punishment; suicide'),\n",
       "  Text(9, 0, 'capital punishment; homicide')])"
      ]
     },
     "execution_count": 25,
     "metadata": {},
     "output_type": "execute_result"
    },
    {
     "data": {
      "image/png": "[encoded data removed]",
      "text/plain": [
       "<Figure size 1080x1080 with 1 Axes>"
      ]
     },
     "metadata": {
      "needs_background": "light"
     },
     "output_type": "display_data"
    }
   ],
   "source": [
    "plt.figure(figsize=(15,15))\n",
    "sns.countplot(x='Manner of death',data=Data_new,order=df['Manner of death'].value_counts().nlargest(10).index)\n",
    "plt.xticks(rotation=90)"
   ]
  },
  {
   "cell_type": "code",
   "execution_count": 26,
   "id": "40cf45bd",
   "metadata": {},
   "outputs": [
    {
     "data": {
      "text/html": [
       "<div>\n",
       "<style scoped>\n",
       "    .dataframe tbody tr th:only-of-type {\n",
       "        vertical-align: middle;\n",
       "    }\n",
       "\n",
       "    .dataframe tbody tr th {\n",
       "        vertical-align: top;\n",
       "    }\n",
       "\n",
       "    .dataframe thead th {\n",
       "        text-align: right;\n",
       "    }\n",
       "</style>\n",
       "<table border=\"1\" class=\"dataframe\">\n",
       "  <thead>\n",
       "    <tr style=\"text-align: right;\">\n",
       "      <th></th>\n",
       "      <th>Id</th>\n",
       "      <th>Name</th>\n",
       "      <th>Short description</th>\n",
       "      <th>Gender</th>\n",
       "      <th>Country</th>\n",
       "      <th>Occupation</th>\n",
       "      <th>Birth year</th>\n",
       "      <th>Death year</th>\n",
       "      <th>Manner of death</th>\n",
       "      <th>Age of death</th>\n",
       "    </tr>\n",
       "  </thead>\n",
       "  <tbody>\n",
       "    <tr>\n",
       "      <th>0</th>\n",
       "      <td>Q23</td>\n",
       "      <td>George Washington</td>\n",
       "      <td>1st president of the United States (1732–1799)</td>\n",
       "      <td>Male</td>\n",
       "      <td>United States of America; Kingdom of Great Bri...</td>\n",
       "      <td>Politician</td>\n",
       "      <td>1732</td>\n",
       "      <td>1799.0</td>\n",
       "      <td>natural causes</td>\n",
       "      <td>67.0</td>\n",
       "    </tr>\n",
       "    <tr>\n",
       "      <th>1</th>\n",
       "      <td>Q42</td>\n",
       "      <td>Douglas Adams</td>\n",
       "      <td>English writer and humorist</td>\n",
       "      <td>Male</td>\n",
       "      <td>United Kingdom</td>\n",
       "      <td>Artist</td>\n",
       "      <td>1952</td>\n",
       "      <td>2001.0</td>\n",
       "      <td>natural causes</td>\n",
       "      <td>49.0</td>\n",
       "    </tr>\n",
       "    <tr>\n",
       "      <th>2</th>\n",
       "      <td>Q91</td>\n",
       "      <td>Abraham Lincoln</td>\n",
       "      <td>16th president of the United States (1809-1865)</td>\n",
       "      <td>Male</td>\n",
       "      <td>United States of America</td>\n",
       "      <td>Politician</td>\n",
       "      <td>1809</td>\n",
       "      <td>1865.0</td>\n",
       "      <td>homicide</td>\n",
       "      <td>56.0</td>\n",
       "    </tr>\n",
       "    <tr>\n",
       "      <th>3</th>\n",
       "      <td>Q254</td>\n",
       "      <td>Wolfgang Amadeus Mozart</td>\n",
       "      <td>Austrian composer of the Classical period</td>\n",
       "      <td>Male</td>\n",
       "      <td>Archduchy of Austria; Archbishopric of Salzburg</td>\n",
       "      <td>Artist</td>\n",
       "      <td>1756</td>\n",
       "      <td>1791.0</td>\n",
       "      <td>NaN</td>\n",
       "      <td>35.0</td>\n",
       "    </tr>\n",
       "    <tr>\n",
       "      <th>4</th>\n",
       "      <td>Q255</td>\n",
       "      <td>Ludwig van Beethoven</td>\n",
       "      <td>German classical and romantic composer</td>\n",
       "      <td>Male</td>\n",
       "      <td>Holy Roman Empire; Austrian Empire</td>\n",
       "      <td>Artist</td>\n",
       "      <td>1770</td>\n",
       "      <td>1827.0</td>\n",
       "      <td>NaN</td>\n",
       "      <td>57.0</td>\n",
       "    </tr>\n",
       "    <tr>\n",
       "      <th>...</th>\n",
       "      <td>...</td>\n",
       "      <td>...</td>\n",
       "      <td>...</td>\n",
       "      <td>...</td>\n",
       "      <td>...</td>\n",
       "      <td>...</td>\n",
       "      <td>...</td>\n",
       "      <td>...</td>\n",
       "      <td>...</td>\n",
       "      <td>...</td>\n",
       "    </tr>\n",
       "    <tr>\n",
       "      <th>1222997</th>\n",
       "      <td>Q77207528</td>\n",
       "      <td>Kurt Denecke</td>\n",
       "      <td>surgeon</td>\n",
       "      <td>Male</td>\n",
       "      <td>NaN</td>\n",
       "      <td>Physician</td>\n",
       "      <td>1903</td>\n",
       "      <td>1991.0</td>\n",
       "      <td>NaN</td>\n",
       "      <td>88.0</td>\n",
       "    </tr>\n",
       "    <tr>\n",
       "      <th>1222998</th>\n",
       "      <td>Q77217025</td>\n",
       "      <td>Peter Albrechtsen</td>\n",
       "      <td>grönländischer Landesrat</td>\n",
       "      <td>Male</td>\n",
       "      <td>NaN</td>\n",
       "      <td>NaN</td>\n",
       "      <td>1891</td>\n",
       "      <td>1929.0</td>\n",
       "      <td>NaN</td>\n",
       "      <td>38.0</td>\n",
       "    </tr>\n",
       "    <tr>\n",
       "      <th>1223000</th>\n",
       "      <td>Q77218559</td>\n",
       "      <td>Gustav Siber</td>\n",
       "      <td>entrepreneur from Switzerland</td>\n",
       "      <td>Male</td>\n",
       "      <td>Switzerland</td>\n",
       "      <td>Entrepreneur</td>\n",
       "      <td>1857</td>\n",
       "      <td>1924.0</td>\n",
       "      <td>NaN</td>\n",
       "      <td>67.0</td>\n",
       "    </tr>\n",
       "    <tr>\n",
       "      <th>1223007</th>\n",
       "      <td>Q77253909</td>\n",
       "      <td>Reginald Oswald Pearson</td>\n",
       "      <td>English artist, working in stained glass, prin...</td>\n",
       "      <td>Male</td>\n",
       "      <td>United Kingdom</td>\n",
       "      <td>Artist</td>\n",
       "      <td>1887</td>\n",
       "      <td>1915.0</td>\n",
       "      <td>NaN</td>\n",
       "      <td>28.0</td>\n",
       "    </tr>\n",
       "    <tr>\n",
       "      <th>1223008</th>\n",
       "      <td>Q77254864</td>\n",
       "      <td>Horst Lerche</td>\n",
       "      <td>German painter</td>\n",
       "      <td>Male</td>\n",
       "      <td>Germany</td>\n",
       "      <td>Artist</td>\n",
       "      <td>1938</td>\n",
       "      <td>2017.0</td>\n",
       "      <td>NaN</td>\n",
       "      <td>79.0</td>\n",
       "    </tr>\n",
       "  </tbody>\n",
       "</table>\n",
       "<p>1089195 rows × 10 columns</p>\n",
       "</div>"
      ],
      "text/plain": [
       "                Id                     Name  \\\n",
       "0              Q23        George Washington   \n",
       "1              Q42            Douglas Adams   \n",
       "2              Q91          Abraham Lincoln   \n",
       "3             Q254  Wolfgang Amadeus Mozart   \n",
       "4             Q255     Ludwig van Beethoven   \n",
       "...            ...                      ...   \n",
       "1222997  Q77207528             Kurt Denecke   \n",
       "1222998  Q77217025        Peter Albrechtsen   \n",
       "1223000  Q77218559             Gustav Siber   \n",
       "1223007  Q77253909  Reginald Oswald Pearson   \n",
       "1223008  Q77254864             Horst Lerche   \n",
       "\n",
       "                                         Short description Gender  \\\n",
       "0           1st president of the United States (1732–1799)   Male   \n",
       "1                              English writer and humorist   Male   \n",
       "2          16th president of the United States (1809-1865)   Male   \n",
       "3                Austrian composer of the Classical period   Male   \n",
       "4                   German classical and romantic composer   Male   \n",
       "...                                                    ...    ...   \n",
       "1222997                                            surgeon   Male   \n",
       "1222998                           grönländischer Landesrat   Male   \n",
       "1223000                      entrepreneur from Switzerland   Male   \n",
       "1223007  English artist, working in stained glass, prin...   Male   \n",
       "1223008                                     German painter   Male   \n",
       "\n",
       "                                                   Country    Occupation  \\\n",
       "0        United States of America; Kingdom of Great Bri...    Politician   \n",
       "1                                           United Kingdom        Artist   \n",
       "2                                 United States of America    Politician   \n",
       "3          Archduchy of Austria; Archbishopric of Salzburg        Artist   \n",
       "4                       Holy Roman Empire; Austrian Empire        Artist   \n",
       "...                                                    ...           ...   \n",
       "1222997                                                NaN     Physician   \n",
       "1222998                                                NaN           NaN   \n",
       "1223000                                        Switzerland  Entrepreneur   \n",
       "1223007                                     United Kingdom        Artist   \n",
       "1223008                                            Germany        Artist   \n",
       "\n",
       "         Birth year  Death year Manner of death  Age of death  \n",
       "0              1732      1799.0  natural causes          67.0  \n",
       "1              1952      2001.0  natural causes          49.0  \n",
       "2              1809      1865.0        homicide          56.0  \n",
       "3              1756      1791.0             NaN          35.0  \n",
       "4              1770      1827.0             NaN          57.0  \n",
       "...             ...         ...             ...           ...  \n",
       "1222997        1903      1991.0             NaN          88.0  \n",
       "1222998        1891      1929.0             NaN          38.0  \n",
       "1223000        1857      1924.0             NaN          67.0  \n",
       "1223007        1887      1915.0             NaN          28.0  \n",
       "1223008        1938      2017.0             NaN          79.0  \n",
       "\n",
       "[1089195 rows x 10 columns]"
      ]
     },
     "execution_count": 26,
     "metadata": {},
     "output_type": "execute_result"
    }
   ],
   "source": [
    "dataset_final"
   ]
  },
  {
   "cell_type": "code",
   "execution_count": 27,
   "id": "72b31e3b",
   "metadata": {},
   "outputs": [],
   "source": [
    "dataset_final['Birth year'] =dataset_final['Birth year'].astype(str)\n",
    "dataset_final['Death year'] = dataset_final['Death year'].astype(str)\n",
    "\n",
    "\n"
   ]
  },
  {
   "cell_type": "code",
   "execution_count": 28,
   "id": "3d82f64d",
   "metadata": {},
   "outputs": [],
   "source": [
    "dataset_final['Birth year'] = dataset_final['Birth year'].apply(lambda x: x.strip('-')).astype(int)\n",
    "\n"
   ]
  },
  {
   "cell_type": "code",
   "execution_count": 29,
   "id": "924e97f7",
   "metadata": {},
   "outputs": [
    {
     "data": {
      "text/plain": [
       "<AxesSubplot:xlabel='Birth year'>"
      ]
     },
     "execution_count": 29,
     "metadata": {},
     "output_type": "execute_result"
    },
    {
     "data": {
      "image/png": "[encoded data removed]",
      "text/plain": [
       "<Figure size 432x288 with 1 Axes>"
      ]
     },
     "metadata": {
      "needs_background": "light"
     },
     "output_type": "display_data"
    }
   ],
   "source": [
    "dataset_final.groupby('Birth year')['Age of death'].mean().plot()"
   ]
  },
  {
   "cell_type": "markdown",
   "id": "77b1f901",
   "metadata": {},
   "source": [
    "- Avg age of death was low in the year of 2000"
   ]
  },
  {
   "cell_type": "code",
   "execution_count": 30,
   "id": "c9b725c5",
   "metadata": {},
   "outputs": [
    {
     "data": {
      "text/plain": [
       "<AxesSubplot:xlabel='Birth year'>"
      ]
     },
     "execution_count": 30,
     "metadata": {},
     "output_type": "execute_result"
    },
    {
     "data": {
      "image/png": "[encoded data removed]",
      "text/plain": [
       "<Figure size 432x288 with 1 Axes>"
      ]
     },
     "metadata": {
      "needs_background": "light"
     },
     "output_type": "display_data"
    }
   ],
   "source": [
    "sns.boxplot(dataset_final['Birth year'],data=dataset_final)"
   ]
  },
  {
   "cell_type": "markdown",
   "id": "72c36839",
   "metadata": {},
   "source": [
    "\n",
    "- Exclude the data of persons who born in or after 2022"
   ]
  },
  {
   "cell_type": "code",
   "execution_count": 31,
   "id": "6b4e6459",
   "metadata": {},
   "outputs": [
    {
     "data": {
      "text/html": [
       "<div>\n",
       "<style scoped>\n",
       "    .dataframe tbody tr th:only-of-type {\n",
       "        vertical-align: middle;\n",
       "    }\n",
       "\n",
       "    .dataframe tbody tr th {\n",
       "        vertical-align: top;\n",
       "    }\n",
       "\n",
       "    .dataframe thead th {\n",
       "        text-align: right;\n",
       "    }\n",
       "</style>\n",
       "<table border=\"1\" class=\"dataframe\">\n",
       "  <thead>\n",
       "    <tr style=\"text-align: right;\">\n",
       "      <th></th>\n",
       "      <th>Id</th>\n",
       "      <th>Name</th>\n",
       "      <th>Short description</th>\n",
       "      <th>Gender</th>\n",
       "      <th>Country</th>\n",
       "      <th>Occupation</th>\n",
       "      <th>Birth year</th>\n",
       "      <th>Death year</th>\n",
       "      <th>Manner of death</th>\n",
       "      <th>Age of death</th>\n",
       "    </tr>\n",
       "  </thead>\n",
       "  <tbody>\n",
       "    <tr>\n",
       "      <th>0</th>\n",
       "      <td>Q23</td>\n",
       "      <td>George Washington</td>\n",
       "      <td>1st president of the United States (1732–1799)</td>\n",
       "      <td>Male</td>\n",
       "      <td>United States of America; Kingdom of Great Bri...</td>\n",
       "      <td>Politician</td>\n",
       "      <td>1732</td>\n",
       "      <td>1799.0</td>\n",
       "      <td>natural causes</td>\n",
       "      <td>67.0</td>\n",
       "    </tr>\n",
       "    <tr>\n",
       "      <th>1</th>\n",
       "      <td>Q42</td>\n",
       "      <td>Douglas Adams</td>\n",
       "      <td>English writer and humorist</td>\n",
       "      <td>Male</td>\n",
       "      <td>United Kingdom</td>\n",
       "      <td>Artist</td>\n",
       "      <td>1952</td>\n",
       "      <td>2001.0</td>\n",
       "      <td>natural causes</td>\n",
       "      <td>49.0</td>\n",
       "    </tr>\n",
       "    <tr>\n",
       "      <th>2</th>\n",
       "      <td>Q91</td>\n",
       "      <td>Abraham Lincoln</td>\n",
       "      <td>16th president of the United States (1809-1865)</td>\n",
       "      <td>Male</td>\n",
       "      <td>United States of America</td>\n",
       "      <td>Politician</td>\n",
       "      <td>1809</td>\n",
       "      <td>1865.0</td>\n",
       "      <td>homicide</td>\n",
       "      <td>56.0</td>\n",
       "    </tr>\n",
       "    <tr>\n",
       "      <th>3</th>\n",
       "      <td>Q254</td>\n",
       "      <td>Wolfgang Amadeus Mozart</td>\n",
       "      <td>Austrian composer of the Classical period</td>\n",
       "      <td>Male</td>\n",
       "      <td>Archduchy of Austria; Archbishopric of Salzburg</td>\n",
       "      <td>Artist</td>\n",
       "      <td>1756</td>\n",
       "      <td>1791.0</td>\n",
       "      <td>NaN</td>\n",
       "      <td>35.0</td>\n",
       "    </tr>\n",
       "    <tr>\n",
       "      <th>4</th>\n",
       "      <td>Q255</td>\n",
       "      <td>Ludwig van Beethoven</td>\n",
       "      <td>German classical and romantic composer</td>\n",
       "      <td>Male</td>\n",
       "      <td>Holy Roman Empire; Austrian Empire</td>\n",
       "      <td>Artist</td>\n",
       "      <td>1770</td>\n",
       "      <td>1827.0</td>\n",
       "      <td>NaN</td>\n",
       "      <td>57.0</td>\n",
       "    </tr>\n",
       "    <tr>\n",
       "      <th>...</th>\n",
       "      <td>...</td>\n",
       "      <td>...</td>\n",
       "      <td>...</td>\n",
       "      <td>...</td>\n",
       "      <td>...</td>\n",
       "      <td>...</td>\n",
       "      <td>...</td>\n",
       "      <td>...</td>\n",
       "      <td>...</td>\n",
       "      <td>...</td>\n",
       "    </tr>\n",
       "    <tr>\n",
       "      <th>1222997</th>\n",
       "      <td>Q77207528</td>\n",
       "      <td>Kurt Denecke</td>\n",
       "      <td>surgeon</td>\n",
       "      <td>Male</td>\n",
       "      <td>NaN</td>\n",
       "      <td>Physician</td>\n",
       "      <td>1903</td>\n",
       "      <td>1991.0</td>\n",
       "      <td>NaN</td>\n",
       "      <td>88.0</td>\n",
       "    </tr>\n",
       "    <tr>\n",
       "      <th>1222998</th>\n",
       "      <td>Q77217025</td>\n",
       "      <td>Peter Albrechtsen</td>\n",
       "      <td>grönländischer Landesrat</td>\n",
       "      <td>Male</td>\n",
       "      <td>NaN</td>\n",
       "      <td>NaN</td>\n",
       "      <td>1891</td>\n",
       "      <td>1929.0</td>\n",
       "      <td>NaN</td>\n",
       "      <td>38.0</td>\n",
       "    </tr>\n",
       "    <tr>\n",
       "      <th>1223000</th>\n",
       "      <td>Q77218559</td>\n",
       "      <td>Gustav Siber</td>\n",
       "      <td>entrepreneur from Switzerland</td>\n",
       "      <td>Male</td>\n",
       "      <td>Switzerland</td>\n",
       "      <td>Entrepreneur</td>\n",
       "      <td>1857</td>\n",
       "      <td>1924.0</td>\n",
       "      <td>NaN</td>\n",
       "      <td>67.0</td>\n",
       "    </tr>\n",
       "    <tr>\n",
       "      <th>1223007</th>\n",
       "      <td>Q77253909</td>\n",
       "      <td>Reginald Oswald Pearson</td>\n",
       "      <td>English artist, working in stained glass, prin...</td>\n",
       "      <td>Male</td>\n",
       "      <td>United Kingdom</td>\n",
       "      <td>Artist</td>\n",
       "      <td>1887</td>\n",
       "      <td>1915.0</td>\n",
       "      <td>NaN</td>\n",
       "      <td>28.0</td>\n",
       "    </tr>\n",
       "    <tr>\n",
       "      <th>1223008</th>\n",
       "      <td>Q77254864</td>\n",
       "      <td>Horst Lerche</td>\n",
       "      <td>German painter</td>\n",
       "      <td>Male</td>\n",
       "      <td>Germany</td>\n",
       "      <td>Artist</td>\n",
       "      <td>1938</td>\n",
       "      <td>2017.0</td>\n",
       "      <td>NaN</td>\n",
       "      <td>79.0</td>\n",
       "    </tr>\n",
       "  </tbody>\n",
       "</table>\n",
       "<p>1089193 rows × 10 columns</p>\n",
       "</div>"
      ],
      "text/plain": [
       "                Id                     Name  \\\n",
       "0              Q23        George Washington   \n",
       "1              Q42            Douglas Adams   \n",
       "2              Q91          Abraham Lincoln   \n",
       "3             Q254  Wolfgang Amadeus Mozart   \n",
       "4             Q255     Ludwig van Beethoven   \n",
       "...            ...                      ...   \n",
       "1222997  Q77207528             Kurt Denecke   \n",
       "1222998  Q77217025        Peter Albrechtsen   \n",
       "1223000  Q77218559             Gustav Siber   \n",
       "1223007  Q77253909  Reginald Oswald Pearson   \n",
       "1223008  Q77254864             Horst Lerche   \n",
       "\n",
       "                                         Short description Gender  \\\n",
       "0           1st president of the United States (1732–1799)   Male   \n",
       "1                              English writer and humorist   Male   \n",
       "2          16th president of the United States (1809-1865)   Male   \n",
       "3                Austrian composer of the Classical period   Male   \n",
       "4                   German classical and romantic composer   Male   \n",
       "...                                                    ...    ...   \n",
       "1222997                                            surgeon   Male   \n",
       "1222998                           grönländischer Landesrat   Male   \n",
       "1223000                      entrepreneur from Switzerland   Male   \n",
       "1223007  English artist, working in stained glass, prin...   Male   \n",
       "1223008                                     German painter   Male   \n",
       "\n",
       "                                                   Country    Occupation  \\\n",
       "0        United States of America; Kingdom of Great Bri...    Politician   \n",
       "1                                           United Kingdom        Artist   \n",
       "2                                 United States of America    Politician   \n",
       "3          Archduchy of Austria; Archbishopric of Salzburg        Artist   \n",
       "4                       Holy Roman Empire; Austrian Empire        Artist   \n",
       "...                                                    ...           ...   \n",
       "1222997                                                NaN     Physician   \n",
       "1222998                                                NaN           NaN   \n",
       "1223000                                        Switzerland  Entrepreneur   \n",
       "1223007                                     United Kingdom        Artist   \n",
       "1223008                                            Germany        Artist   \n",
       "\n",
       "         Birth year Death year Manner of death  Age of death  \n",
       "0              1732     1799.0  natural causes          67.0  \n",
       "1              1952     2001.0  natural causes          49.0  \n",
       "2              1809     1865.0        homicide          56.0  \n",
       "3              1756     1791.0             NaN          35.0  \n",
       "4              1770     1827.0             NaN          57.0  \n",
       "...             ...        ...             ...           ...  \n",
       "1222997        1903     1991.0             NaN          88.0  \n",
       "1222998        1891     1929.0             NaN          38.0  \n",
       "1223000        1857     1924.0             NaN          67.0  \n",
       "1223007        1887     1915.0             NaN          28.0  \n",
       "1223008        1938     2017.0             NaN          79.0  \n",
       "\n",
       "[1089193 rows x 10 columns]"
      ]
     },
     "execution_count": 31,
     "metadata": {},
     "output_type": "execute_result"
    }
   ],
   "source": [
    "\n",
    "dataset_final = dataset_final.drop(dataset_final[dataset_final['Birth year'] >2022].index)\n",
    "dataset_final"
   ]
  },
  {
   "cell_type": "code",
   "execution_count": 32,
   "id": "6a091cac",
   "metadata": {},
   "outputs": [],
   "source": [
    "dataset_final['Death year'] = dataset_final['Death year'].apply(lambda x: x.strip('-'))\n",
    "dataset_final['Death year'] = dataset_final['Death year'].apply(lambda x: x.split('.')[0])"
   ]
  },
  {
   "cell_type": "code",
   "execution_count": 33,
   "id": "4fffcb99",
   "metadata": {},
   "outputs": [
    {
     "data": {
      "text/plain": [
       "<AxesSubplot:xlabel='Death year'>"
      ]
     },
     "execution_count": 33,
     "metadata": {},
     "output_type": "execute_result"
    },
    {
     "data": {
      "image/png": "[encoded data removed]",
      "text/plain": [
       "<Figure size 432x288 with 1 Axes>"
      ]
     },
     "metadata": {
      "needs_background": "light"
     },
     "output_type": "display_data"
    }
   ],
   "source": [
    "dataset_final.groupby('Death year')['Age of death'].mean().plot()"
   ]
  },
  {
   "cell_type": "code",
   "execution_count": 34,
   "id": "65ac9fa3",
   "metadata": {},
   "outputs": [],
   "source": [
    "dataset_final['Death year']= dataset_final['Death year'].astype(str)"
   ]
  },
  {
   "cell_type": "code",
   "execution_count": 35,
   "id": "bfda0077",
   "metadata": {},
   "outputs": [
    {
     "name": "stdout",
     "output_type": "stream",
     "text": [
      "<class 'pandas.core.series.Series'>\n",
      "Int64Index: 1089193 entries, 0 to 1223008\n",
      "Series name: Death year\n",
      "Non-Null Count    Dtype \n",
      "--------------    ----- \n",
      "1089193 non-null  object\n",
      "dtypes: object(1)\n",
      "memory usage: 16.6+ MB\n"
     ]
    }
   ],
   "source": [
    "dataset_final['Death year'].info()"
   ]
  },
  {
   "cell_type": "code",
   "execution_count": 36,
   "id": "32df2750",
   "metadata": {},
   "outputs": [],
   "source": [
    "dataset_final['Death year']= dataset_final['Death year'].apply(lambda x: x.replace('nan','0'))"
   ]
  },
  {
   "cell_type": "code",
   "execution_count": 37,
   "id": "28768e0c",
   "metadata": {},
   "outputs": [
    {
     "data": {
      "text/plain": [
       "0"
      ]
     },
     "execution_count": 37,
     "metadata": {},
     "output_type": "execute_result"
    }
   ],
   "source": [
    "dataset_final[dataset_final['Death year'] =='nan'].size"
   ]
  },
  {
   "cell_type": "code",
   "execution_count": 38,
   "id": "f2584370",
   "metadata": {},
   "outputs": [],
   "source": [
    "dataset_final['Death year']=dataset_final['Death year'].astype(int)"
   ]
  },
  {
   "cell_type": "code",
   "execution_count": 39,
   "id": "d8d8797c",
   "metadata": {},
   "outputs": [
    {
     "name": "stdout",
     "output_type": "stream",
     "text": [
      "<class 'pandas.core.series.Series'>\n",
      "Int64Index: 1089193 entries, 0 to 1223008\n",
      "Series name: Death year\n",
      "Non-Null Count    Dtype\n",
      "--------------    -----\n",
      "1089193 non-null  int32\n",
      "dtypes: int32(1)\n",
      "memory usage: 12.5 MB\n"
     ]
    }
   ],
   "source": [
    "dataset_final['Death year'].info()"
   ]
  },
  {
   "cell_type": "code",
   "execution_count": 40,
   "id": "3d947b04",
   "metadata": {},
   "outputs": [],
   "source": [
    "dataset_final['Rectify Age of death']= dataset_final['Death year'] - dataset_final['Birth year']"
   ]
  },
  {
   "cell_type": "code",
   "execution_count": 41,
   "id": "a95cda2b",
   "metadata": {},
   "outputs": [
    {
     "data": {
      "text/html": [
       "<div>\n",
       "<style scoped>\n",
       "    .dataframe tbody tr th:only-of-type {\n",
       "        vertical-align: middle;\n",
       "    }\n",
       "\n",
       "    .dataframe tbody tr th {\n",
       "        vertical-align: top;\n",
       "    }\n",
       "\n",
       "    .dataframe thead th {\n",
       "        text-align: right;\n",
       "    }\n",
       "</style>\n",
       "<table border=\"1\" class=\"dataframe\">\n",
       "  <thead>\n",
       "    <tr style=\"text-align: right;\">\n",
       "      <th></th>\n",
       "      <th>Id</th>\n",
       "      <th>Name</th>\n",
       "      <th>Short description</th>\n",
       "      <th>Gender</th>\n",
       "      <th>Country</th>\n",
       "      <th>Occupation</th>\n",
       "      <th>Birth year</th>\n",
       "      <th>Death year</th>\n",
       "      <th>Manner of death</th>\n",
       "      <th>Age of death</th>\n",
       "      <th>Rectify Age of death</th>\n",
       "    </tr>\n",
       "  </thead>\n",
       "  <tbody>\n",
       "    <tr>\n",
       "      <th>0</th>\n",
       "      <td>Q23</td>\n",
       "      <td>George Washington</td>\n",
       "      <td>1st president of the United States (1732–1799)</td>\n",
       "      <td>Male</td>\n",
       "      <td>United States of America; Kingdom of Great Bri...</td>\n",
       "      <td>Politician</td>\n",
       "      <td>1732</td>\n",
       "      <td>1799</td>\n",
       "      <td>natural causes</td>\n",
       "      <td>67.0</td>\n",
       "      <td>67</td>\n",
       "    </tr>\n",
       "    <tr>\n",
       "      <th>1</th>\n",
       "      <td>Q42</td>\n",
       "      <td>Douglas Adams</td>\n",
       "      <td>English writer and humorist</td>\n",
       "      <td>Male</td>\n",
       "      <td>United Kingdom</td>\n",
       "      <td>Artist</td>\n",
       "      <td>1952</td>\n",
       "      <td>2001</td>\n",
       "      <td>natural causes</td>\n",
       "      <td>49.0</td>\n",
       "      <td>49</td>\n",
       "    </tr>\n",
       "    <tr>\n",
       "      <th>2</th>\n",
       "      <td>Q91</td>\n",
       "      <td>Abraham Lincoln</td>\n",
       "      <td>16th president of the United States (1809-1865)</td>\n",
       "      <td>Male</td>\n",
       "      <td>United States of America</td>\n",
       "      <td>Politician</td>\n",
       "      <td>1809</td>\n",
       "      <td>1865</td>\n",
       "      <td>homicide</td>\n",
       "      <td>56.0</td>\n",
       "      <td>56</td>\n",
       "    </tr>\n",
       "    <tr>\n",
       "      <th>3</th>\n",
       "      <td>Q254</td>\n",
       "      <td>Wolfgang Amadeus Mozart</td>\n",
       "      <td>Austrian composer of the Classical period</td>\n",
       "      <td>Male</td>\n",
       "      <td>Archduchy of Austria; Archbishopric of Salzburg</td>\n",
       "      <td>Artist</td>\n",
       "      <td>1756</td>\n",
       "      <td>1791</td>\n",
       "      <td>NaN</td>\n",
       "      <td>35.0</td>\n",
       "      <td>35</td>\n",
       "    </tr>\n",
       "    <tr>\n",
       "      <th>4</th>\n",
       "      <td>Q255</td>\n",
       "      <td>Ludwig van Beethoven</td>\n",
       "      <td>German classical and romantic composer</td>\n",
       "      <td>Male</td>\n",
       "      <td>Holy Roman Empire; Austrian Empire</td>\n",
       "      <td>Artist</td>\n",
       "      <td>1770</td>\n",
       "      <td>1827</td>\n",
       "      <td>NaN</td>\n",
       "      <td>57.0</td>\n",
       "      <td>57</td>\n",
       "    </tr>\n",
       "    <tr>\n",
       "      <th>...</th>\n",
       "      <td>...</td>\n",
       "      <td>...</td>\n",
       "      <td>...</td>\n",
       "      <td>...</td>\n",
       "      <td>...</td>\n",
       "      <td>...</td>\n",
       "      <td>...</td>\n",
       "      <td>...</td>\n",
       "      <td>...</td>\n",
       "      <td>...</td>\n",
       "      <td>...</td>\n",
       "    </tr>\n",
       "    <tr>\n",
       "      <th>1222997</th>\n",
       "      <td>Q77207528</td>\n",
       "      <td>Kurt Denecke</td>\n",
       "      <td>surgeon</td>\n",
       "      <td>Male</td>\n",
       "      <td>NaN</td>\n",
       "      <td>Physician</td>\n",
       "      <td>1903</td>\n",
       "      <td>1991</td>\n",
       "      <td>NaN</td>\n",
       "      <td>88.0</td>\n",
       "      <td>88</td>\n",
       "    </tr>\n",
       "    <tr>\n",
       "      <th>1222998</th>\n",
       "      <td>Q77217025</td>\n",
       "      <td>Peter Albrechtsen</td>\n",
       "      <td>grönländischer Landesrat</td>\n",
       "      <td>Male</td>\n",
       "      <td>NaN</td>\n",
       "      <td>NaN</td>\n",
       "      <td>1891</td>\n",
       "      <td>1929</td>\n",
       "      <td>NaN</td>\n",
       "      <td>38.0</td>\n",
       "      <td>38</td>\n",
       "    </tr>\n",
       "    <tr>\n",
       "      <th>1223000</th>\n",
       "      <td>Q77218559</td>\n",
       "      <td>Gustav Siber</td>\n",
       "      <td>entrepreneur from Switzerland</td>\n",
       "      <td>Male</td>\n",
       "      <td>Switzerland</td>\n",
       "      <td>Entrepreneur</td>\n",
       "      <td>1857</td>\n",
       "      <td>1924</td>\n",
       "      <td>NaN</td>\n",
       "      <td>67.0</td>\n",
       "      <td>67</td>\n",
       "    </tr>\n",
       "    <tr>\n",
       "      <th>1223007</th>\n",
       "      <td>Q77253909</td>\n",
       "      <td>Reginald Oswald Pearson</td>\n",
       "      <td>English artist, working in stained glass, prin...</td>\n",
       "      <td>Male</td>\n",
       "      <td>United Kingdom</td>\n",
       "      <td>Artist</td>\n",
       "      <td>1887</td>\n",
       "      <td>1915</td>\n",
       "      <td>NaN</td>\n",
       "      <td>28.0</td>\n",
       "      <td>28</td>\n",
       "    </tr>\n",
       "    <tr>\n",
       "      <th>1223008</th>\n",
       "      <td>Q77254864</td>\n",
       "      <td>Horst Lerche</td>\n",
       "      <td>German painter</td>\n",
       "      <td>Male</td>\n",
       "      <td>Germany</td>\n",
       "      <td>Artist</td>\n",
       "      <td>1938</td>\n",
       "      <td>2017</td>\n",
       "      <td>NaN</td>\n",
       "      <td>79.0</td>\n",
       "      <td>79</td>\n",
       "    </tr>\n",
       "  </tbody>\n",
       "</table>\n",
       "<p>1089193 rows × 11 columns</p>\n",
       "</div>"
      ],
      "text/plain": [
       "                Id                     Name  \\\n",
       "0              Q23        George Washington   \n",
       "1              Q42            Douglas Adams   \n",
       "2              Q91          Abraham Lincoln   \n",
       "3             Q254  Wolfgang Amadeus Mozart   \n",
       "4             Q255     Ludwig van Beethoven   \n",
       "...            ...                      ...   \n",
       "1222997  Q77207528             Kurt Denecke   \n",
       "1222998  Q77217025        Peter Albrechtsen   \n",
       "1223000  Q77218559             Gustav Siber   \n",
       "1223007  Q77253909  Reginald Oswald Pearson   \n",
       "1223008  Q77254864             Horst Lerche   \n",
       "\n",
       "                                         Short description Gender  \\\n",
       "0           1st president of the United States (1732–1799)   Male   \n",
       "1                              English writer and humorist   Male   \n",
       "2          16th president of the United States (1809-1865)   Male   \n",
       "3                Austrian composer of the Classical period   Male   \n",
       "4                   German classical and romantic composer   Male   \n",
       "...                                                    ...    ...   \n",
       "1222997                                            surgeon   Male   \n",
       "1222998                           grönländischer Landesrat   Male   \n",
       "1223000                      entrepreneur from Switzerland   Male   \n",
       "1223007  English artist, working in stained glass, prin...   Male   \n",
       "1223008                                     German painter   Male   \n",
       "\n",
       "                                                   Country    Occupation  \\\n",
       "0        United States of America; Kingdom of Great Bri...    Politician   \n",
       "1                                           United Kingdom        Artist   \n",
       "2                                 United States of America    Politician   \n",
       "3          Archduchy of Austria; Archbishopric of Salzburg        Artist   \n",
       "4                       Holy Roman Empire; Austrian Empire        Artist   \n",
       "...                                                    ...           ...   \n",
       "1222997                                                NaN     Physician   \n",
       "1222998                                                NaN           NaN   \n",
       "1223000                                        Switzerland  Entrepreneur   \n",
       "1223007                                     United Kingdom        Artist   \n",
       "1223008                                            Germany        Artist   \n",
       "\n",
       "         Birth year  Death year Manner of death  Age of death  \\\n",
       "0              1732        1799  natural causes          67.0   \n",
       "1              1952        2001  natural causes          49.0   \n",
       "2              1809        1865        homicide          56.0   \n",
       "3              1756        1791             NaN          35.0   \n",
       "4              1770        1827             NaN          57.0   \n",
       "...             ...         ...             ...           ...   \n",
       "1222997        1903        1991             NaN          88.0   \n",
       "1222998        1891        1929             NaN          38.0   \n",
       "1223000        1857        1924             NaN          67.0   \n",
       "1223007        1887        1915             NaN          28.0   \n",
       "1223008        1938        2017             NaN          79.0   \n",
       "\n",
       "         Rectify Age of death  \n",
       "0                          67  \n",
       "1                          49  \n",
       "2                          56  \n",
       "3                          35  \n",
       "4                          57  \n",
       "...                       ...  \n",
       "1222997                    88  \n",
       "1222998                    38  \n",
       "1223000                    67  \n",
       "1223007                    28  \n",
       "1223008                    79  \n",
       "\n",
       "[1089193 rows x 11 columns]"
      ]
     },
     "execution_count": 41,
     "metadata": {},
     "output_type": "execute_result"
    }
   ],
   "source": [
    "dataset_final"
   ]
  },
  {
   "cell_type": "markdown",
   "id": "65a740ba",
   "metadata": {},
   "source": [
    "-Removing data of the persons whose age of Rectify Age of Death is not matching of Age of Death"
   ]
  },
  {
   "cell_type": "code",
   "execution_count": 42,
   "id": "14ddc01d",
   "metadata": {},
   "outputs": [],
   "source": [
    "dataset_final=dataset_final[dataset_final['Age of death']==dataset_final['Rectify Age of death']]"
   ]
  },
  {
   "cell_type": "code",
   "execution_count": 43,
   "id": "10313522",
   "metadata": {},
   "outputs": [
    {
     "data": {
      "text/plain": [
       "12230090"
      ]
     },
     "execution_count": 43,
     "metadata": {},
     "output_type": "execute_result"
    }
   ],
   "source": [
    "df.size"
   ]
  },
  {
   "cell_type": "code",
   "execution_count": 44,
   "id": "355df61c",
   "metadata": {},
   "outputs": [
    {
     "data": {
      "text/html": [
       "<div>\n",
       "<style scoped>\n",
       "    .dataframe tbody tr th:only-of-type {\n",
       "        vertical-align: middle;\n",
       "    }\n",
       "\n",
       "    .dataframe tbody tr th {\n",
       "        vertical-align: top;\n",
       "    }\n",
       "\n",
       "    .dataframe thead th {\n",
       "        text-align: right;\n",
       "    }\n",
       "</style>\n",
       "<table border=\"1\" class=\"dataframe\">\n",
       "  <thead>\n",
       "    <tr style=\"text-align: right;\">\n",
       "      <th></th>\n",
       "      <th>Id</th>\n",
       "      <th>Name</th>\n",
       "      <th>Short description</th>\n",
       "      <th>Gender</th>\n",
       "      <th>Country</th>\n",
       "      <th>Occupation</th>\n",
       "      <th>Birth year</th>\n",
       "      <th>Death year</th>\n",
       "      <th>Manner of death</th>\n",
       "      <th>Age of death</th>\n",
       "      <th>Rectify Age of death</th>\n",
       "    </tr>\n",
       "  </thead>\n",
       "  <tbody>\n",
       "    <tr>\n",
       "      <th>0</th>\n",
       "      <td>Q23</td>\n",
       "      <td>George Washington</td>\n",
       "      <td>1st president of the United States (1732–1799)</td>\n",
       "      <td>Male</td>\n",
       "      <td>United States of America; Kingdom of Great Bri...</td>\n",
       "      <td>Politician</td>\n",
       "      <td>1732</td>\n",
       "      <td>1799</td>\n",
       "      <td>natural causes</td>\n",
       "      <td>67.0</td>\n",
       "      <td>67</td>\n",
       "    </tr>\n",
       "    <tr>\n",
       "      <th>1</th>\n",
       "      <td>Q42</td>\n",
       "      <td>Douglas Adams</td>\n",
       "      <td>English writer and humorist</td>\n",
       "      <td>Male</td>\n",
       "      <td>United Kingdom</td>\n",
       "      <td>Artist</td>\n",
       "      <td>1952</td>\n",
       "      <td>2001</td>\n",
       "      <td>natural causes</td>\n",
       "      <td>49.0</td>\n",
       "      <td>49</td>\n",
       "    </tr>\n",
       "    <tr>\n",
       "      <th>2</th>\n",
       "      <td>Q91</td>\n",
       "      <td>Abraham Lincoln</td>\n",
       "      <td>16th president of the United States (1809-1865)</td>\n",
       "      <td>Male</td>\n",
       "      <td>United States of America</td>\n",
       "      <td>Politician</td>\n",
       "      <td>1809</td>\n",
       "      <td>1865</td>\n",
       "      <td>homicide</td>\n",
       "      <td>56.0</td>\n",
       "      <td>56</td>\n",
       "    </tr>\n",
       "    <tr>\n",
       "      <th>3</th>\n",
       "      <td>Q254</td>\n",
       "      <td>Wolfgang Amadeus Mozart</td>\n",
       "      <td>Austrian composer of the Classical period</td>\n",
       "      <td>Male</td>\n",
       "      <td>Archduchy of Austria; Archbishopric of Salzburg</td>\n",
       "      <td>Artist</td>\n",
       "      <td>1756</td>\n",
       "      <td>1791</td>\n",
       "      <td>NaN</td>\n",
       "      <td>35.0</td>\n",
       "      <td>35</td>\n",
       "    </tr>\n",
       "    <tr>\n",
       "      <th>4</th>\n",
       "      <td>Q255</td>\n",
       "      <td>Ludwig van Beethoven</td>\n",
       "      <td>German classical and romantic composer</td>\n",
       "      <td>Male</td>\n",
       "      <td>Holy Roman Empire; Austrian Empire</td>\n",
       "      <td>Artist</td>\n",
       "      <td>1770</td>\n",
       "      <td>1827</td>\n",
       "      <td>NaN</td>\n",
       "      <td>57.0</td>\n",
       "      <td>57</td>\n",
       "    </tr>\n",
       "    <tr>\n",
       "      <th>...</th>\n",
       "      <td>...</td>\n",
       "      <td>...</td>\n",
       "      <td>...</td>\n",
       "      <td>...</td>\n",
       "      <td>...</td>\n",
       "      <td>...</td>\n",
       "      <td>...</td>\n",
       "      <td>...</td>\n",
       "      <td>...</td>\n",
       "      <td>...</td>\n",
       "      <td>...</td>\n",
       "    </tr>\n",
       "    <tr>\n",
       "      <th>1222997</th>\n",
       "      <td>Q77207528</td>\n",
       "      <td>Kurt Denecke</td>\n",
       "      <td>surgeon</td>\n",
       "      <td>Male</td>\n",
       "      <td>NaN</td>\n",
       "      <td>Physician</td>\n",
       "      <td>1903</td>\n",
       "      <td>1991</td>\n",
       "      <td>NaN</td>\n",
       "      <td>88.0</td>\n",
       "      <td>88</td>\n",
       "    </tr>\n",
       "    <tr>\n",
       "      <th>1222998</th>\n",
       "      <td>Q77217025</td>\n",
       "      <td>Peter Albrechtsen</td>\n",
       "      <td>grönländischer Landesrat</td>\n",
       "      <td>Male</td>\n",
       "      <td>NaN</td>\n",
       "      <td>NaN</td>\n",
       "      <td>1891</td>\n",
       "      <td>1929</td>\n",
       "      <td>NaN</td>\n",
       "      <td>38.0</td>\n",
       "      <td>38</td>\n",
       "    </tr>\n",
       "    <tr>\n",
       "      <th>1223000</th>\n",
       "      <td>Q77218559</td>\n",
       "      <td>Gustav Siber</td>\n",
       "      <td>entrepreneur from Switzerland</td>\n",
       "      <td>Male</td>\n",
       "      <td>Switzerland</td>\n",
       "      <td>Entrepreneur</td>\n",
       "      <td>1857</td>\n",
       "      <td>1924</td>\n",
       "      <td>NaN</td>\n",
       "      <td>67.0</td>\n",
       "      <td>67</td>\n",
       "    </tr>\n",
       "    <tr>\n",
       "      <th>1223007</th>\n",
       "      <td>Q77253909</td>\n",
       "      <td>Reginald Oswald Pearson</td>\n",
       "      <td>English artist, working in stained glass, prin...</td>\n",
       "      <td>Male</td>\n",
       "      <td>United Kingdom</td>\n",
       "      <td>Artist</td>\n",
       "      <td>1887</td>\n",
       "      <td>1915</td>\n",
       "      <td>NaN</td>\n",
       "      <td>28.0</td>\n",
       "      <td>28</td>\n",
       "    </tr>\n",
       "    <tr>\n",
       "      <th>1223008</th>\n",
       "      <td>Q77254864</td>\n",
       "      <td>Horst Lerche</td>\n",
       "      <td>German painter</td>\n",
       "      <td>Male</td>\n",
       "      <td>Germany</td>\n",
       "      <td>Artist</td>\n",
       "      <td>1938</td>\n",
       "      <td>2017</td>\n",
       "      <td>NaN</td>\n",
       "      <td>79.0</td>\n",
       "      <td>79</td>\n",
       "    </tr>\n",
       "  </tbody>\n",
       "</table>\n",
       "<p>1088658 rows × 11 columns</p>\n",
       "</div>"
      ],
      "text/plain": [
       "                Id                     Name  \\\n",
       "0              Q23        George Washington   \n",
       "1              Q42            Douglas Adams   \n",
       "2              Q91          Abraham Lincoln   \n",
       "3             Q254  Wolfgang Amadeus Mozart   \n",
       "4             Q255     Ludwig van Beethoven   \n",
       "...            ...                      ...   \n",
       "1222997  Q77207528             Kurt Denecke   \n",
       "1222998  Q77217025        Peter Albrechtsen   \n",
       "1223000  Q77218559             Gustav Siber   \n",
       "1223007  Q77253909  Reginald Oswald Pearson   \n",
       "1223008  Q77254864             Horst Lerche   \n",
       "\n",
       "                                         Short description Gender  \\\n",
       "0           1st president of the United States (1732–1799)   Male   \n",
       "1                              English writer and humorist   Male   \n",
       "2          16th president of the United States (1809-1865)   Male   \n",
       "3                Austrian composer of the Classical period   Male   \n",
       "4                   German classical and romantic composer   Male   \n",
       "...                                                    ...    ...   \n",
       "1222997                                            surgeon   Male   \n",
       "1222998                           grönländischer Landesrat   Male   \n",
       "1223000                      entrepreneur from Switzerland   Male   \n",
       "1223007  English artist, working in stained glass, prin...   Male   \n",
       "1223008                                     German painter   Male   \n",
       "\n",
       "                                                   Country    Occupation  \\\n",
       "0        United States of America; Kingdom of Great Bri...    Politician   \n",
       "1                                           United Kingdom        Artist   \n",
       "2                                 United States of America    Politician   \n",
       "3          Archduchy of Austria; Archbishopric of Salzburg        Artist   \n",
       "4                       Holy Roman Empire; Austrian Empire        Artist   \n",
       "...                                                    ...           ...   \n",
       "1222997                                                NaN     Physician   \n",
       "1222998                                                NaN           NaN   \n",
       "1223000                                        Switzerland  Entrepreneur   \n",
       "1223007                                     United Kingdom        Artist   \n",
       "1223008                                            Germany        Artist   \n",
       "\n",
       "         Birth year  Death year Manner of death  Age of death  \\\n",
       "0              1732        1799  natural causes          67.0   \n",
       "1              1952        2001  natural causes          49.0   \n",
       "2              1809        1865        homicide          56.0   \n",
       "3              1756        1791             NaN          35.0   \n",
       "4              1770        1827             NaN          57.0   \n",
       "...             ...         ...             ...           ...   \n",
       "1222997        1903        1991             NaN          88.0   \n",
       "1222998        1891        1929             NaN          38.0   \n",
       "1223000        1857        1924             NaN          67.0   \n",
       "1223007        1887        1915             NaN          28.0   \n",
       "1223008        1938        2017             NaN          79.0   \n",
       "\n",
       "         Rectify Age of death  \n",
       "0                          67  \n",
       "1                          49  \n",
       "2                          56  \n",
       "3                          35  \n",
       "4                          57  \n",
       "...                       ...  \n",
       "1222997                    88  \n",
       "1222998                    38  \n",
       "1223000                    67  \n",
       "1223007                    28  \n",
       "1223008                    79  \n",
       "\n",
       "[1088658 rows x 11 columns]"
      ]
     },
     "execution_count": 44,
     "metadata": {},
     "output_type": "execute_result"
    }
   ],
   "source": [
    "dataset_final"
   ]
  },
  {
   "cell_type": "code",
   "execution_count": 45,
   "id": "ff3f036a",
   "metadata": {},
   "outputs": [],
   "source": [
    "dataset_final = dataset_final.drop(['Id','Name','Short description','Rectify Age of death'], axis= 1)"
   ]
  },
  {
   "cell_type": "code",
   "execution_count": 46,
   "id": "2ea46792",
   "metadata": {},
   "outputs": [
    {
     "data": {
      "text/html": [
       "<div>\n",
       "<style scoped>\n",
       "    .dataframe tbody tr th:only-of-type {\n",
       "        vertical-align: middle;\n",
       "    }\n",
       "\n",
       "    .dataframe tbody tr th {\n",
       "        vertical-align: top;\n",
       "    }\n",
       "\n",
       "    .dataframe thead th {\n",
       "        text-align: right;\n",
       "    }\n",
       "</style>\n",
       "<table border=\"1\" class=\"dataframe\">\n",
       "  <thead>\n",
       "    <tr style=\"text-align: right;\">\n",
       "      <th></th>\n",
       "      <th>Gender</th>\n",
       "      <th>Country</th>\n",
       "      <th>Occupation</th>\n",
       "      <th>Birth year</th>\n",
       "      <th>Death year</th>\n",
       "      <th>Manner of death</th>\n",
       "      <th>Age of death</th>\n",
       "    </tr>\n",
       "  </thead>\n",
       "  <tbody>\n",
       "    <tr>\n",
       "      <th>0</th>\n",
       "      <td>Male</td>\n",
       "      <td>United States of America; Kingdom of Great Bri...</td>\n",
       "      <td>Politician</td>\n",
       "      <td>1732</td>\n",
       "      <td>1799</td>\n",
       "      <td>natural causes</td>\n",
       "      <td>67.0</td>\n",
       "    </tr>\n",
       "    <tr>\n",
       "      <th>1</th>\n",
       "      <td>Male</td>\n",
       "      <td>United Kingdom</td>\n",
       "      <td>Artist</td>\n",
       "      <td>1952</td>\n",
       "      <td>2001</td>\n",
       "      <td>natural causes</td>\n",
       "      <td>49.0</td>\n",
       "    </tr>\n",
       "    <tr>\n",
       "      <th>2</th>\n",
       "      <td>Male</td>\n",
       "      <td>United States of America</td>\n",
       "      <td>Politician</td>\n",
       "      <td>1809</td>\n",
       "      <td>1865</td>\n",
       "      <td>homicide</td>\n",
       "      <td>56.0</td>\n",
       "    </tr>\n",
       "    <tr>\n",
       "      <th>3</th>\n",
       "      <td>Male</td>\n",
       "      <td>Archduchy of Austria; Archbishopric of Salzburg</td>\n",
       "      <td>Artist</td>\n",
       "      <td>1756</td>\n",
       "      <td>1791</td>\n",
       "      <td>NaN</td>\n",
       "      <td>35.0</td>\n",
       "    </tr>\n",
       "    <tr>\n",
       "      <th>4</th>\n",
       "      <td>Male</td>\n",
       "      <td>Holy Roman Empire; Austrian Empire</td>\n",
       "      <td>Artist</td>\n",
       "      <td>1770</td>\n",
       "      <td>1827</td>\n",
       "      <td>NaN</td>\n",
       "      <td>57.0</td>\n",
       "    </tr>\n",
       "    <tr>\n",
       "      <th>...</th>\n",
       "      <td>...</td>\n",
       "      <td>...</td>\n",
       "      <td>...</td>\n",
       "      <td>...</td>\n",
       "      <td>...</td>\n",
       "      <td>...</td>\n",
       "      <td>...</td>\n",
       "    </tr>\n",
       "    <tr>\n",
       "      <th>1222997</th>\n",
       "      <td>Male</td>\n",
       "      <td>NaN</td>\n",
       "      <td>Physician</td>\n",
       "      <td>1903</td>\n",
       "      <td>1991</td>\n",
       "      <td>NaN</td>\n",
       "      <td>88.0</td>\n",
       "    </tr>\n",
       "    <tr>\n",
       "      <th>1222998</th>\n",
       "      <td>Male</td>\n",
       "      <td>NaN</td>\n",
       "      <td>NaN</td>\n",
       "      <td>1891</td>\n",
       "      <td>1929</td>\n",
       "      <td>NaN</td>\n",
       "      <td>38.0</td>\n",
       "    </tr>\n",
       "    <tr>\n",
       "      <th>1223000</th>\n",
       "      <td>Male</td>\n",
       "      <td>Switzerland</td>\n",
       "      <td>Entrepreneur</td>\n",
       "      <td>1857</td>\n",
       "      <td>1924</td>\n",
       "      <td>NaN</td>\n",
       "      <td>67.0</td>\n",
       "    </tr>\n",
       "    <tr>\n",
       "      <th>1223007</th>\n",
       "      <td>Male</td>\n",
       "      <td>United Kingdom</td>\n",
       "      <td>Artist</td>\n",
       "      <td>1887</td>\n",
       "      <td>1915</td>\n",
       "      <td>NaN</td>\n",
       "      <td>28.0</td>\n",
       "    </tr>\n",
       "    <tr>\n",
       "      <th>1223008</th>\n",
       "      <td>Male</td>\n",
       "      <td>Germany</td>\n",
       "      <td>Artist</td>\n",
       "      <td>1938</td>\n",
       "      <td>2017</td>\n",
       "      <td>NaN</td>\n",
       "      <td>79.0</td>\n",
       "    </tr>\n",
       "  </tbody>\n",
       "</table>\n",
       "<p>1088658 rows × 7 columns</p>\n",
       "</div>"
      ],
      "text/plain": [
       "        Gender                                            Country  \\\n",
       "0         Male  United States of America; Kingdom of Great Bri...   \n",
       "1         Male                                     United Kingdom   \n",
       "2         Male                           United States of America   \n",
       "3         Male    Archduchy of Austria; Archbishopric of Salzburg   \n",
       "4         Male                 Holy Roman Empire; Austrian Empire   \n",
       "...        ...                                                ...   \n",
       "1222997   Male                                                NaN   \n",
       "1222998   Male                                                NaN   \n",
       "1223000   Male                                        Switzerland   \n",
       "1223007   Male                                     United Kingdom   \n",
       "1223008   Male                                            Germany   \n",
       "\n",
       "           Occupation  Birth year  Death year Manner of death  Age of death  \n",
       "0          Politician        1732        1799  natural causes          67.0  \n",
       "1              Artist        1952        2001  natural causes          49.0  \n",
       "2          Politician        1809        1865        homicide          56.0  \n",
       "3              Artist        1756        1791             NaN          35.0  \n",
       "4              Artist        1770        1827             NaN          57.0  \n",
       "...               ...         ...         ...             ...           ...  \n",
       "1222997     Physician        1903        1991             NaN          88.0  \n",
       "1222998           NaN        1891        1929             NaN          38.0  \n",
       "1223000  Entrepreneur        1857        1924             NaN          67.0  \n",
       "1223007        Artist        1887        1915             NaN          28.0  \n",
       "1223008        Artist        1938        2017             NaN          79.0  \n",
       "\n",
       "[1088658 rows x 7 columns]"
      ]
     },
     "execution_count": 46,
     "metadata": {},
     "output_type": "execute_result"
    }
   ],
   "source": [
    "dataset_final "
   ]
  },
  {
   "cell_type": "markdown",
   "id": "c2daeb6f",
   "metadata": {},
   "source": [
    "- Handling Missing Value"
   ]
  },
  {
   "cell_type": "code",
   "execution_count": 47,
   "id": "c0b317b5",
   "metadata": {},
   "outputs": [
    {
     "data": {
      "text/plain": [
       "Gender                   0\n",
       "Country             292264\n",
       "Occupation          167510\n",
       "Birth year               0\n",
       "Death year               0\n",
       "Manner of death    1036693\n",
       "Age of death             0\n",
       "dtype: int64"
      ]
     },
     "execution_count": 47,
     "metadata": {},
     "output_type": "execute_result"
    }
   ],
   "source": [
    "dataset_final.isnull().sum()"
   ]
  },
  {
   "cell_type": "code",
   "execution_count": 48,
   "id": "a9649b4a",
   "metadata": {},
   "outputs": [],
   "source": [
    "dataset_final[['Country','Occupation','Manner of death']]= dataset_final[['Country','Occupation','Manner of death']].fillna('Missing')"
   ]
  },
  {
   "cell_type": "code",
   "execution_count": 49,
   "id": "4ae126d2",
   "metadata": {},
   "outputs": [
    {
     "data": {
      "text/plain": [
       "Missing                                  1036693\n",
       "natural causes                             33500\n",
       "suicide                                     5282\n",
       "accident                                    4799\n",
       "homicide                                    4332\n",
       "                                          ...   \n",
       "rape                                           1\n",
       "chronic obstructive pulmonary disease          1\n",
       "suicide; substance abuse                       1\n",
       "occupational injury                            1\n",
       "White Terror                                   1\n",
       "Name: Manner of death, Length: 198, dtype: int64"
      ]
     },
     "execution_count": 49,
     "metadata": {},
     "output_type": "execute_result"
    }
   ],
   "source": [
    "dataset_final['Manner of death'].value_counts()"
   ]
  },
  {
   "cell_type": "code",
   "execution_count": 50,
   "id": "be346ad2",
   "metadata": {},
   "outputs": [
    {
     "data": {
      "text/html": [
       "<div>\n",
       "<style scoped>\n",
       "    .dataframe tbody tr th:only-of-type {\n",
       "        vertical-align: middle;\n",
       "    }\n",
       "\n",
       "    .dataframe tbody tr th {\n",
       "        vertical-align: top;\n",
       "    }\n",
       "\n",
       "    .dataframe thead th {\n",
       "        text-align: right;\n",
       "    }\n",
       "</style>\n",
       "<table border=\"1\" class=\"dataframe\">\n",
       "  <thead>\n",
       "    <tr style=\"text-align: right;\">\n",
       "      <th></th>\n",
       "      <th>Gender</th>\n",
       "      <th>Country</th>\n",
       "      <th>Occupation</th>\n",
       "      <th>Birth year</th>\n",
       "      <th>Death year</th>\n",
       "      <th>Manner of death</th>\n",
       "      <th>Age of death</th>\n",
       "    </tr>\n",
       "  </thead>\n",
       "  <tbody>\n",
       "    <tr>\n",
       "      <th>0</th>\n",
       "      <td>Male</td>\n",
       "      <td>United States of America; Kingdom of Great Bri...</td>\n",
       "      <td>Politician</td>\n",
       "      <td>1732</td>\n",
       "      <td>1799</td>\n",
       "      <td>natural causes</td>\n",
       "      <td>67.0</td>\n",
       "    </tr>\n",
       "    <tr>\n",
       "      <th>1</th>\n",
       "      <td>Male</td>\n",
       "      <td>United Kingdom</td>\n",
       "      <td>Artist</td>\n",
       "      <td>1952</td>\n",
       "      <td>2001</td>\n",
       "      <td>natural causes</td>\n",
       "      <td>49.0</td>\n",
       "    </tr>\n",
       "    <tr>\n",
       "      <th>2</th>\n",
       "      <td>Male</td>\n",
       "      <td>United States of America</td>\n",
       "      <td>Politician</td>\n",
       "      <td>1809</td>\n",
       "      <td>1865</td>\n",
       "      <td>homicide</td>\n",
       "      <td>56.0</td>\n",
       "    </tr>\n",
       "    <tr>\n",
       "      <th>3</th>\n",
       "      <td>Male</td>\n",
       "      <td>Archduchy of Austria; Archbishopric of Salzburg</td>\n",
       "      <td>Artist</td>\n",
       "      <td>1756</td>\n",
       "      <td>1791</td>\n",
       "      <td>Missing</td>\n",
       "      <td>35.0</td>\n",
       "    </tr>\n",
       "    <tr>\n",
       "      <th>4</th>\n",
       "      <td>Male</td>\n",
       "      <td>Holy Roman Empire; Austrian Empire</td>\n",
       "      <td>Artist</td>\n",
       "      <td>1770</td>\n",
       "      <td>1827</td>\n",
       "      <td>Missing</td>\n",
       "      <td>57.0</td>\n",
       "    </tr>\n",
       "    <tr>\n",
       "      <th>...</th>\n",
       "      <td>...</td>\n",
       "      <td>...</td>\n",
       "      <td>...</td>\n",
       "      <td>...</td>\n",
       "      <td>...</td>\n",
       "      <td>...</td>\n",
       "      <td>...</td>\n",
       "    </tr>\n",
       "    <tr>\n",
       "      <th>1222997</th>\n",
       "      <td>Male</td>\n",
       "      <td>Missing</td>\n",
       "      <td>Physician</td>\n",
       "      <td>1903</td>\n",
       "      <td>1991</td>\n",
       "      <td>Missing</td>\n",
       "      <td>88.0</td>\n",
       "    </tr>\n",
       "    <tr>\n",
       "      <th>1222998</th>\n",
       "      <td>Male</td>\n",
       "      <td>Missing</td>\n",
       "      <td>Missing</td>\n",
       "      <td>1891</td>\n",
       "      <td>1929</td>\n",
       "      <td>Missing</td>\n",
       "      <td>38.0</td>\n",
       "    </tr>\n",
       "    <tr>\n",
       "      <th>1223000</th>\n",
       "      <td>Male</td>\n",
       "      <td>Switzerland</td>\n",
       "      <td>Entrepreneur</td>\n",
       "      <td>1857</td>\n",
       "      <td>1924</td>\n",
       "      <td>Missing</td>\n",
       "      <td>67.0</td>\n",
       "    </tr>\n",
       "    <tr>\n",
       "      <th>1223007</th>\n",
       "      <td>Male</td>\n",
       "      <td>United Kingdom</td>\n",
       "      <td>Artist</td>\n",
       "      <td>1887</td>\n",
       "      <td>1915</td>\n",
       "      <td>Missing</td>\n",
       "      <td>28.0</td>\n",
       "    </tr>\n",
       "    <tr>\n",
       "      <th>1223008</th>\n",
       "      <td>Male</td>\n",
       "      <td>Germany</td>\n",
       "      <td>Artist</td>\n",
       "      <td>1938</td>\n",
       "      <td>2017</td>\n",
       "      <td>Missing</td>\n",
       "      <td>79.0</td>\n",
       "    </tr>\n",
       "  </tbody>\n",
       "</table>\n",
       "<p>1088658 rows × 7 columns</p>\n",
       "</div>"
      ],
      "text/plain": [
       "        Gender                                            Country  \\\n",
       "0         Male  United States of America; Kingdom of Great Bri...   \n",
       "1         Male                                     United Kingdom   \n",
       "2         Male                           United States of America   \n",
       "3         Male    Archduchy of Austria; Archbishopric of Salzburg   \n",
       "4         Male                 Holy Roman Empire; Austrian Empire   \n",
       "...        ...                                                ...   \n",
       "1222997   Male                                            Missing   \n",
       "1222998   Male                                            Missing   \n",
       "1223000   Male                                        Switzerland   \n",
       "1223007   Male                                     United Kingdom   \n",
       "1223008   Male                                            Germany   \n",
       "\n",
       "           Occupation  Birth year  Death year Manner of death  Age of death  \n",
       "0          Politician        1732        1799  natural causes          67.0  \n",
       "1              Artist        1952        2001  natural causes          49.0  \n",
       "2          Politician        1809        1865        homicide          56.0  \n",
       "3              Artist        1756        1791         Missing          35.0  \n",
       "4              Artist        1770        1827         Missing          57.0  \n",
       "...               ...         ...         ...             ...           ...  \n",
       "1222997     Physician        1903        1991         Missing          88.0  \n",
       "1222998       Missing        1891        1929         Missing          38.0  \n",
       "1223000  Entrepreneur        1857        1924         Missing          67.0  \n",
       "1223007        Artist        1887        1915         Missing          28.0  \n",
       "1223008        Artist        1938        2017         Missing          79.0  \n",
       "\n",
       "[1088658 rows x 7 columns]"
      ]
     },
     "execution_count": 50,
     "metadata": {},
     "output_type": "execute_result"
    }
   ],
   "source": [
    "dataset_final"
   ]
  },
  {
   "cell_type": "code",
   "execution_count": 51,
   "id": "a02d6e34",
   "metadata": {},
   "outputs": [
    {
     "data": {
      "text/plain": [
       "<AxesSubplot:>"
      ]
     },
     "execution_count": 51,
     "metadata": {},
     "output_type": "execute_result"
    },
    {
     "data": {
      "image/png": "[encoded data removed]",
      "text/plain": [
       "<Figure size 432x288 with 2 Axes>"
      ]
     },
     "metadata": {
      "needs_background": "light"
     },
     "output_type": "display_data"
    }
   ],
   "source": [
    "sns.heatmap(dataset_final.corr())"
   ]
  },
  {
   "cell_type": "code",
   "execution_count": 52,
   "id": "f40545d9",
   "metadata": {},
   "outputs": [
    {
     "data": {
      "text/plain": [
       "0.3577203129682225"
      ]
     },
     "execution_count": 52,
     "metadata": {},
     "output_type": "execute_result"
    }
   ],
   "source": [
    "dataset_final['Age of death'].kurtosis()"
   ]
  },
  {
   "cell_type": "code",
   "execution_count": 53,
   "id": "60dc9d53",
   "metadata": {},
   "outputs": [
    {
     "data": {
      "text/plain": [
       "<AxesSubplot:ylabel='Frequency'>"
      ]
     },
     "execution_count": 53,
     "metadata": {},
     "output_type": "execute_result"
    },
    {
     "data": {
      "image/png": "[encoded data removed]",
      "text/plain": [
       "<Figure size 432x288 with 1 Axes>"
      ]
     },
     "metadata": {
      "needs_background": "light"
     },
     "output_type": "display_data"
    }
   ],
   "source": [
    "dataset_final['Age of death'].plot.hist(bins=20)"
   ]
  },
  {
   "cell_type": "code",
   "execution_count": 54,
   "id": "d289c7e8",
   "metadata": {},
   "outputs": [
    {
     "data": {
      "text/plain": [
       "-0.7707496872294176"
      ]
     },
     "execution_count": 54,
     "metadata": {},
     "output_type": "execute_result"
    }
   ],
   "source": [
    "dataset_final['Age of death'].skew()"
   ]
  },
  {
   "cell_type": "markdown",
   "id": "25ea177f",
   "metadata": {},
   "source": [
    "- skewness is neagtive indicate data are skewed left\n"
   ]
  },
  {
   "cell_type": "code",
   "execution_count": 55,
   "id": "d84c12d2",
   "metadata": {},
   "outputs": [
    {
     "data": {
      "text/plain": [
       "<AxesSubplot:xlabel='Gender', ylabel='count'>"
      ]
     },
     "execution_count": 55,
     "metadata": {},
     "output_type": "execute_result"
    },
    {
     "data": {
      "image/png": "[encoded data removed]",
      "text/plain": [
       "<Figure size 432x288 with 1 Axes>"
      ]
     },
     "metadata": {
      "needs_background": "light"
     },
     "output_type": "display_data"
    }
   ],
   "source": [
    "sns.countplot(x='Gender',data=dataset_final)"
   ]
  },
  {
   "cell_type": "code",
   "execution_count": 56,
   "id": "33674d62",
   "metadata": {},
   "outputs": [
    {
     "data": {
      "text/plain": [
       "<AxesSubplot:xlabel='Age of death'>"
      ]
     },
     "execution_count": 56,
     "metadata": {},
     "output_type": "execute_result"
    },
    {
     "data": {
      "image/png": "[encoded data removed]",
      "text/plain": [
       "<Figure size 432x288 with 1 Axes>"
      ]
     },
     "metadata": {
      "needs_background": "light"
     },
     "output_type": "display_data"
    }
   ],
   "source": [
    "sns.boxplot (dataset_final['Age of death'],data=dataset_final)"
   ]
  },
  {
   "cell_type": "code",
   "execution_count": 57,
   "id": "e5c013dd",
   "metadata": {},
   "outputs": [
    {
     "data": {
      "text/plain": [
       "<AxesSubplot:xlabel='Birth year'>"
      ]
     },
     "execution_count": 57,
     "metadata": {},
     "output_type": "execute_result"
    },
    {
     "data": {
      "image/png": "[encoded data removed]",
      "text/plain": [
       "<Figure size 432x288 with 1 Axes>"
      ]
     },
     "metadata": {
      "needs_background": "light"
     },
     "output_type": "display_data"
    }
   ],
   "source": [
    "sns.boxplot (dataset_final['Birth year'],data=dataset_final)"
   ]
  },
  {
   "cell_type": "code",
   "execution_count": 58,
   "id": "2a6e2fcc",
   "metadata": {},
   "outputs": [],
   "source": [
    "dataset_final['Citizenship'] = dataset_final['Country'].apply(lambda x: 0 if type(x) == float else len(x.split('; ')))"
   ]
  },
  {
   "cell_type": "code",
   "execution_count": 59,
   "id": "2d97dc55",
   "metadata": {},
   "outputs": [
    {
     "data": {
      "text/html": [
       "<div>\n",
       "<style scoped>\n",
       "    .dataframe tbody tr th:only-of-type {\n",
       "        vertical-align: middle;\n",
       "    }\n",
       "\n",
       "    .dataframe tbody tr th {\n",
       "        vertical-align: top;\n",
       "    }\n",
       "\n",
       "    .dataframe thead th {\n",
       "        text-align: right;\n",
       "    }\n",
       "</style>\n",
       "<table border=\"1\" class=\"dataframe\">\n",
       "  <thead>\n",
       "    <tr style=\"text-align: right;\">\n",
       "      <th></th>\n",
       "      <th>Gender</th>\n",
       "      <th>Country</th>\n",
       "      <th>Occupation</th>\n",
       "      <th>Birth year</th>\n",
       "      <th>Death year</th>\n",
       "      <th>Manner of death</th>\n",
       "      <th>Age of death</th>\n",
       "      <th>Citizenship</th>\n",
       "    </tr>\n",
       "  </thead>\n",
       "  <tbody>\n",
       "    <tr>\n",
       "      <th>0</th>\n",
       "      <td>Male</td>\n",
       "      <td>United States of America; Kingdom of Great Bri...</td>\n",
       "      <td>Politician</td>\n",
       "      <td>1732</td>\n",
       "      <td>1799</td>\n",
       "      <td>natural causes</td>\n",
       "      <td>67.0</td>\n",
       "      <td>2</td>\n",
       "    </tr>\n",
       "    <tr>\n",
       "      <th>1</th>\n",
       "      <td>Male</td>\n",
       "      <td>United Kingdom</td>\n",
       "      <td>Artist</td>\n",
       "      <td>1952</td>\n",
       "      <td>2001</td>\n",
       "      <td>natural causes</td>\n",
       "      <td>49.0</td>\n",
       "      <td>1</td>\n",
       "    </tr>\n",
       "    <tr>\n",
       "      <th>2</th>\n",
       "      <td>Male</td>\n",
       "      <td>United States of America</td>\n",
       "      <td>Politician</td>\n",
       "      <td>1809</td>\n",
       "      <td>1865</td>\n",
       "      <td>homicide</td>\n",
       "      <td>56.0</td>\n",
       "      <td>1</td>\n",
       "    </tr>\n",
       "    <tr>\n",
       "      <th>3</th>\n",
       "      <td>Male</td>\n",
       "      <td>Archduchy of Austria; Archbishopric of Salzburg</td>\n",
       "      <td>Artist</td>\n",
       "      <td>1756</td>\n",
       "      <td>1791</td>\n",
       "      <td>Missing</td>\n",
       "      <td>35.0</td>\n",
       "      <td>2</td>\n",
       "    </tr>\n",
       "    <tr>\n",
       "      <th>4</th>\n",
       "      <td>Male</td>\n",
       "      <td>Holy Roman Empire; Austrian Empire</td>\n",
       "      <td>Artist</td>\n",
       "      <td>1770</td>\n",
       "      <td>1827</td>\n",
       "      <td>Missing</td>\n",
       "      <td>57.0</td>\n",
       "      <td>2</td>\n",
       "    </tr>\n",
       "    <tr>\n",
       "      <th>...</th>\n",
       "      <td>...</td>\n",
       "      <td>...</td>\n",
       "      <td>...</td>\n",
       "      <td>...</td>\n",
       "      <td>...</td>\n",
       "      <td>...</td>\n",
       "      <td>...</td>\n",
       "      <td>...</td>\n",
       "    </tr>\n",
       "    <tr>\n",
       "      <th>1222997</th>\n",
       "      <td>Male</td>\n",
       "      <td>Missing</td>\n",
       "      <td>Physician</td>\n",
       "      <td>1903</td>\n",
       "      <td>1991</td>\n",
       "      <td>Missing</td>\n",
       "      <td>88.0</td>\n",
       "      <td>1</td>\n",
       "    </tr>\n",
       "    <tr>\n",
       "      <th>1222998</th>\n",
       "      <td>Male</td>\n",
       "      <td>Missing</td>\n",
       "      <td>Missing</td>\n",
       "      <td>1891</td>\n",
       "      <td>1929</td>\n",
       "      <td>Missing</td>\n",
       "      <td>38.0</td>\n",
       "      <td>1</td>\n",
       "    </tr>\n",
       "    <tr>\n",
       "      <th>1223000</th>\n",
       "      <td>Male</td>\n",
       "      <td>Switzerland</td>\n",
       "      <td>Entrepreneur</td>\n",
       "      <td>1857</td>\n",
       "      <td>1924</td>\n",
       "      <td>Missing</td>\n",
       "      <td>67.0</td>\n",
       "      <td>1</td>\n",
       "    </tr>\n",
       "    <tr>\n",
       "      <th>1223007</th>\n",
       "      <td>Male</td>\n",
       "      <td>United Kingdom</td>\n",
       "      <td>Artist</td>\n",
       "      <td>1887</td>\n",
       "      <td>1915</td>\n",
       "      <td>Missing</td>\n",
       "      <td>28.0</td>\n",
       "      <td>1</td>\n",
       "    </tr>\n",
       "    <tr>\n",
       "      <th>1223008</th>\n",
       "      <td>Male</td>\n",
       "      <td>Germany</td>\n",
       "      <td>Artist</td>\n",
       "      <td>1938</td>\n",
       "      <td>2017</td>\n",
       "      <td>Missing</td>\n",
       "      <td>79.0</td>\n",
       "      <td>1</td>\n",
       "    </tr>\n",
       "  </tbody>\n",
       "</table>\n",
       "<p>1088658 rows × 8 columns</p>\n",
       "</div>"
      ],
      "text/plain": [
       "        Gender                                            Country  \\\n",
       "0         Male  United States of America; Kingdom of Great Bri...   \n",
       "1         Male                                     United Kingdom   \n",
       "2         Male                           United States of America   \n",
       "3         Male    Archduchy of Austria; Archbishopric of Salzburg   \n",
       "4         Male                 Holy Roman Empire; Austrian Empire   \n",
       "...        ...                                                ...   \n",
       "1222997   Male                                            Missing   \n",
       "1222998   Male                                            Missing   \n",
       "1223000   Male                                        Switzerland   \n",
       "1223007   Male                                     United Kingdom   \n",
       "1223008   Male                                            Germany   \n",
       "\n",
       "           Occupation  Birth year  Death year Manner of death  Age of death  \\\n",
       "0          Politician        1732        1799  natural causes          67.0   \n",
       "1              Artist        1952        2001  natural causes          49.0   \n",
       "2          Politician        1809        1865        homicide          56.0   \n",
       "3              Artist        1756        1791         Missing          35.0   \n",
       "4              Artist        1770        1827         Missing          57.0   \n",
       "...               ...         ...         ...             ...           ...   \n",
       "1222997     Physician        1903        1991         Missing          88.0   \n",
       "1222998       Missing        1891        1929         Missing          38.0   \n",
       "1223000  Entrepreneur        1857        1924         Missing          67.0   \n",
       "1223007        Artist        1887        1915         Missing          28.0   \n",
       "1223008        Artist        1938        2017         Missing          79.0   \n",
       "\n",
       "         Citizenship  \n",
       "0                  2  \n",
       "1                  1  \n",
       "2                  1  \n",
       "3                  2  \n",
       "4                  2  \n",
       "...              ...  \n",
       "1222997            1  \n",
       "1222998            1  \n",
       "1223000            1  \n",
       "1223007            1  \n",
       "1223008            1  \n",
       "\n",
       "[1088658 rows x 8 columns]"
      ]
     },
     "execution_count": 59,
     "metadata": {},
     "output_type": "execute_result"
    }
   ],
   "source": [
    "dataset_final"
   ]
  },
  {
   "cell_type": "code",
   "execution_count": 60,
   "id": "76597bf3",
   "metadata": {},
   "outputs": [
    {
     "data": {
      "text/html": [
       "<style type=\"text/css\">\n",
       "#T_f6d27_row0_col0 {\n",
       "  background-color: #023858;\n",
       "  color: #f1f1f1;\n",
       "}\n",
       "#T_f6d27_row1_col0 {\n",
       "  background-color: #f1ebf5;\n",
       "  color: #000000;\n",
       "}\n",
       "#T_f6d27_row2_col0 {\n",
       "  background-color: #fef6fb;\n",
       "  color: #000000;\n",
       "}\n",
       "#T_f6d27_row3_col0, #T_f6d27_row4_col0, #T_f6d27_row5_col0, #T_f6d27_row6_col0, #T_f6d27_row7_col0, #T_f6d27_row8_col0, #T_f6d27_row9_col0 {\n",
       "  background-color: #fff7fb;\n",
       "  color: #000000;\n",
       "}\n",
       "</style>\n",
       "<table id=\"T_f6d27\">\n",
       "  <thead>\n",
       "    <tr>\n",
       "      <th class=\"blank level0\" >&nbsp;</th>\n",
       "      <th id=\"T_f6d27_level0_col0\" class=\"col_heading level0 col0\" >Citizenship_count</th>\n",
       "    </tr>\n",
       "  </thead>\n",
       "  <tbody>\n",
       "    <tr>\n",
       "      <th id=\"T_f6d27_level0_row0\" class=\"row_heading level0 row0\" >1</th>\n",
       "      <td id=\"T_f6d27_row0_col0\" class=\"data row0 col0\" >988403</td>\n",
       "    </tr>\n",
       "    <tr>\n",
       "      <th id=\"T_f6d27_level0_row1\" class=\"row_heading level0 row1\" >2</th>\n",
       "      <td id=\"T_f6d27_row1_col0\" class=\"data row1 col0\" >92118</td>\n",
       "    </tr>\n",
       "    <tr>\n",
       "      <th id=\"T_f6d27_level0_row2\" class=\"row_heading level0 row2\" >3</th>\n",
       "      <td id=\"T_f6d27_row2_col0\" class=\"data row2 col0\" >6743</td>\n",
       "    </tr>\n",
       "    <tr>\n",
       "      <th id=\"T_f6d27_level0_row3\" class=\"row_heading level0 row3\" >4</th>\n",
       "      <td id=\"T_f6d27_row3_col0\" class=\"data row3 col0\" >1082</td>\n",
       "    </tr>\n",
       "    <tr>\n",
       "      <th id=\"T_f6d27_level0_row4\" class=\"row_heading level0 row4\" >5</th>\n",
       "      <td id=\"T_f6d27_row4_col0\" class=\"data row4 col0\" >202</td>\n",
       "    </tr>\n",
       "    <tr>\n",
       "      <th id=\"T_f6d27_level0_row5\" class=\"row_heading level0 row5\" >6</th>\n",
       "      <td id=\"T_f6d27_row5_col0\" class=\"data row5 col0\" >77</td>\n",
       "    </tr>\n",
       "    <tr>\n",
       "      <th id=\"T_f6d27_level0_row6\" class=\"row_heading level0 row6\" >7</th>\n",
       "      <td id=\"T_f6d27_row6_col0\" class=\"data row6 col0\" >24</td>\n",
       "    </tr>\n",
       "    <tr>\n",
       "      <th id=\"T_f6d27_level0_row7\" class=\"row_heading level0 row7\" >8</th>\n",
       "      <td id=\"T_f6d27_row7_col0\" class=\"data row7 col0\" >5</td>\n",
       "    </tr>\n",
       "    <tr>\n",
       "      <th id=\"T_f6d27_level0_row8\" class=\"row_heading level0 row8\" >9</th>\n",
       "      <td id=\"T_f6d27_row8_col0\" class=\"data row8 col0\" >3</td>\n",
       "    </tr>\n",
       "    <tr>\n",
       "      <th id=\"T_f6d27_level0_row9\" class=\"row_heading level0 row9\" >10</th>\n",
       "      <td id=\"T_f6d27_row9_col0\" class=\"data row9 col0\" >1</td>\n",
       "    </tr>\n",
       "  </tbody>\n",
       "</table>\n"
      ],
      "text/plain": [
       "<pandas.io.formats.style.Styler at 0x1fe26507a30>"
      ]
     },
     "execution_count": 60,
     "metadata": {},
     "output_type": "execute_result"
    }
   ],
   "source": [
    "Count= pd.DataFrame({'Citizenship_count':dataset_final['Citizenship'].value_counts()})\n",
    "Count.style.background_gradient()"
   ]
  },
  {
   "cell_type": "markdown",
   "id": "27b612e6",
   "metadata": {},
   "source": [
    "Some of the cases persons having citizenship of more than 5 countries amazing"
   ]
  },
  {
   "cell_type": "code",
   "execution_count": 61,
   "id": "d442cead",
   "metadata": {},
   "outputs": [
    {
     "data": {
      "text/plain": [
       "<AxesSubplot:xlabel='Citizenship', ylabel='Age of death'>"
      ]
     },
     "execution_count": 61,
     "metadata": {},
     "output_type": "execute_result"
    },
    {
     "data": {
      "image/png": "[encoded data removed]",
      "text/plain": [
       "<Figure size 432x288 with 1 Axes>"
      ]
     },
     "metadata": {
      "needs_background": "light"
     },
     "output_type": "display_data"
    }
   ],
   "source": [
    "sns.lineplot(x='Citizenship', y= 'Age of death',data=dataset_final,hue=\"Gender\")"
   ]
  },
  {
   "cell_type": "markdown",
   "id": "26f6c8da",
   "metadata": {},
   "source": [
    "- Citizenship is creating directly impact on the Age of Death"
   ]
  },
  {
   "cell_type": "code",
   "execution_count": 67,
   "id": "78c7f503",
   "metadata": {},
   "outputs": [
    {
     "data": {
      "text/html": [
       "<div>\n",
       "<style scoped>\n",
       "    .dataframe tbody tr th:only-of-type {\n",
       "        vertical-align: middle;\n",
       "    }\n",
       "\n",
       "    .dataframe tbody tr th {\n",
       "        vertical-align: top;\n",
       "    }\n",
       "\n",
       "    .dataframe thead th {\n",
       "        text-align: right;\n",
       "    }\n",
       "</style>\n",
       "<table border=\"1\" class=\"dataframe\">\n",
       "  <thead>\n",
       "    <tr style=\"text-align: right;\">\n",
       "      <th></th>\n",
       "      <th>Gender</th>\n",
       "      <th>Age of death</th>\n",
       "    </tr>\n",
       "  </thead>\n",
       "  <tbody>\n",
       "    <tr>\n",
       "      <th>0</th>\n",
       "      <td>Female</td>\n",
       "      <td>71.323567</td>\n",
       "    </tr>\n",
       "    <tr>\n",
       "      <th>1</th>\n",
       "      <td>Male</td>\n",
       "      <td>69.192394</td>\n",
       "    </tr>\n",
       "  </tbody>\n",
       "</table>\n",
       "</div>"
      ],
      "text/plain": [
       "   Gender  Age of death\n",
       "0  Female     71.323567\n",
       "1    Male     69.192394"
      ]
     },
     "execution_count": 67,
     "metadata": {},
     "output_type": "execute_result"
    }
   ],
   "source": [
    "dataset_final.groupby('Gender')['Age of death'].mean().reset_index()"
   ]
  },
  {
   "cell_type": "markdown",
   "id": "b582e7aa",
   "metadata": {},
   "source": [
    "-Female has higher Average Age of death"
   ]
  },
  {
   "cell_type": "code",
   "execution_count": null,
   "id": "4036a3a5",
   "metadata": {},
   "outputs": [],
   "source": []
  }
 ],
 "metadata": {
  "kernelspec": {
   "display_name": "Python 3 (ipykernel)",
   "language": "python",
   "name": "python3"
  },
  "language_info": {
   "codemirror_mode": {
    "name": "ipython",
    "version": 3
   },
   "file_extension": ".py",
   "mimetype": "text/x-python",
   "name": "python",
   "nbconvert_exporter": "python",
   "pygments_lexer": "ipython3",
   "version": "3.9.12"
  }
 },
 "nbformat": 4,
 "nbformat_minor": 5
}
